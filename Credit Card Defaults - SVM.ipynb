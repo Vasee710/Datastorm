{
 "cells": [
  {
   "cell_type": "code",
   "execution_count": 1,
   "metadata": {},
   "outputs": [],
   "source": [
    "import pandas as pd\n",
    "import numpy as np\n",
    "from sklearn import preprocessing\n",
    "import matplotlib.pyplot as plt \n",
    "plt.rc(\"font\", size=14)\n",
    "from sklearn.linear_model import LogisticRegression\n",
    "from sklearn.model_selection import train_test_split\n",
    "import seaborn as sns\n",
    "sns.set(style=\"white\")\n",
    "sns.set(style=\"whitegrid\", color_codes=True)"
   ]
  },
  {
   "cell_type": "code",
   "execution_count": 54,
   "metadata": {
    "scrolled": true
   },
   "outputs": [
    {
     "name": "stdout",
     "output_type": "stream",
     "text": [
      "(24000, 25)\n",
      "['Client_ID', 'Balance_Limit_V1', 'Gender', 'EDUCATION_STATUS', 'MARITAL_STATUS', 'AGE', 'PAY_JULY', 'PAY_AUG', 'PAY_SEP', 'PAY_OCT', 'PAY_NOV', 'PAY_DEC', 'DUE_AMT_JULY', 'DUE_AMT_AUG', 'DUE_AMT_SEP', 'DUE_AMT_OCT', 'DUE_AMT_NOV', 'DUE_AMT_DEC', 'PAID_AMT_JULY', 'PAID_AMT_AUG', 'PAID_AMT_SEP', 'PAID_AMT_OCT', 'PAID_AMT_NOV', 'PAID_AMT_DEC', 'NEXT_MONTH_DEFAULT']\n",
      "\n",
      "(6000, 24)\n",
      "['Client_ID', 'Balance_Limit_V1', 'Gender', 'EDUCATION_STATUS', 'MARITAL_STATUS', 'AGE', 'PAY_JULY', 'PAY_AUG', 'PAY_SEP', 'PAY_OCT', 'PAY_NOV', 'PAY_DEC', 'DUE_AMT_JULY', 'DUE_AMT_AUG', 'DUE_AMT_SEP', 'DUE_AMT_OCT', 'DUE_AMT_NOV', 'DUE_AMT_DEC', 'PAID_AMT_JULY', 'PAID_AMT_AUG', 'PAID_AMT_SEP', 'PAID_AMT_OCT', 'PAID_AMT_NOV', 'PAID_AMT_DEC']\n"
     ]
    }
   ],
   "source": [
    "#CODE to import the train csv file\n",
    "data = pd.read_csv(r'C:\\Users\\Vaseekaran.AMIRTHAVARMAN\\Desktop\\Datastorm\\Datasets\\credit_card_default_train.csv', header=0)\n",
    "data = data.dropna()\n",
    "print(data.shape)\n",
    "print(list(data.columns))\n",
    "\n",
    "print()\n",
    "\n",
    "test_data = pd.read_csv(r'C:\\Users\\Vaseekaran.AMIRTHAVARMAN\\Desktop\\Datastorm\\Datasets\\credit_card_default_test.csv', header=0)\n",
    "test_data=test_data.dropna()\n",
    "print(test_data.shape)\n",
    "print(list(test_data.columns))"
   ]
  },
  {
   "cell_type": "code",
   "execution_count": 3,
   "metadata": {},
   "outputs": [
    {
     "data": {
      "text/html": [
       "<div>\n",
       "<style scoped>\n",
       "    .dataframe tbody tr th:only-of-type {\n",
       "        vertical-align: middle;\n",
       "    }\n",
       "\n",
       "    .dataframe tbody tr th {\n",
       "        vertical-align: top;\n",
       "    }\n",
       "\n",
       "    .dataframe thead th {\n",
       "        text-align: right;\n",
       "    }\n",
       "</style>\n",
       "<table border=\"1\" class=\"dataframe\">\n",
       "  <thead>\n",
       "    <tr style=\"text-align: right;\">\n",
       "      <th></th>\n",
       "      <th>Client_ID</th>\n",
       "      <th>Balance_Limit_V1</th>\n",
       "      <th>Gender</th>\n",
       "      <th>EDUCATION_STATUS</th>\n",
       "      <th>MARITAL_STATUS</th>\n",
       "      <th>AGE</th>\n",
       "      <th>PAY_JULY</th>\n",
       "      <th>PAY_AUG</th>\n",
       "      <th>PAY_SEP</th>\n",
       "      <th>PAY_OCT</th>\n",
       "      <th>...</th>\n",
       "      <th>DUE_AMT_OCT</th>\n",
       "      <th>DUE_AMT_NOV</th>\n",
       "      <th>DUE_AMT_DEC</th>\n",
       "      <th>PAID_AMT_JULY</th>\n",
       "      <th>PAID_AMT_AUG</th>\n",
       "      <th>PAID_AMT_SEP</th>\n",
       "      <th>PAID_AMT_OCT</th>\n",
       "      <th>PAID_AMT_NOV</th>\n",
       "      <th>PAID_AMT_DEC</th>\n",
       "      <th>NEXT_MONTH_DEFAULT</th>\n",
       "    </tr>\n",
       "  </thead>\n",
       "  <tbody>\n",
       "    <tr>\n",
       "      <td>0</td>\n",
       "      <td>1</td>\n",
       "      <td>1M</td>\n",
       "      <td>M</td>\n",
       "      <td>Graduate</td>\n",
       "      <td>Other</td>\n",
       "      <td>31-45</td>\n",
       "      <td>-1</td>\n",
       "      <td>-1</td>\n",
       "      <td>-1</td>\n",
       "      <td>-1</td>\n",
       "      <td>...</td>\n",
       "      <td>39418</td>\n",
       "      <td>162772</td>\n",
       "      <td>-13982</td>\n",
       "      <td>3437</td>\n",
       "      <td>6004</td>\n",
       "      <td>39418</td>\n",
       "      <td>162772</td>\n",
       "      <td>0</td>\n",
       "      <td>538165</td>\n",
       "      <td>0</td>\n",
       "    </tr>\n",
       "    <tr>\n",
       "      <td>1</td>\n",
       "      <td>2</td>\n",
       "      <td>1M</td>\n",
       "      <td>F</td>\n",
       "      <td>High School</td>\n",
       "      <td>Other</td>\n",
       "      <td>Less than 30</td>\n",
       "      <td>0</td>\n",
       "      <td>-1</td>\n",
       "      <td>-1</td>\n",
       "      <td>-1</td>\n",
       "      <td>...</td>\n",
       "      <td>43530</td>\n",
       "      <td>80811</td>\n",
       "      <td>124590</td>\n",
       "      <td>151818</td>\n",
       "      <td>46200</td>\n",
       "      <td>43530</td>\n",
       "      <td>80811</td>\n",
       "      <td>942</td>\n",
       "      <td>33666</td>\n",
       "      <td>0</td>\n",
       "    </tr>\n",
       "    <tr>\n",
       "      <td>2</td>\n",
       "      <td>3</td>\n",
       "      <td>100K</td>\n",
       "      <td>F</td>\n",
       "      <td>High School</td>\n",
       "      <td>Single</td>\n",
       "      <td>31-45</td>\n",
       "      <td>4</td>\n",
       "      <td>3</td>\n",
       "      <td>2</td>\n",
       "      <td>2</td>\n",
       "      <td>...</td>\n",
       "      <td>0</td>\n",
       "      <td>0</td>\n",
       "      <td>0</td>\n",
       "      <td>0</td>\n",
       "      <td>0</td>\n",
       "      <td>0</td>\n",
       "      <td>0</td>\n",
       "      <td>0</td>\n",
       "      <td>0</td>\n",
       "      <td>1</td>\n",
       "    </tr>\n",
       "    <tr>\n",
       "      <td>3</td>\n",
       "      <td>4</td>\n",
       "      <td>200K</td>\n",
       "      <td>F</td>\n",
       "      <td>Graduate</td>\n",
       "      <td>Single</td>\n",
       "      <td>31-45</td>\n",
       "      <td>2</td>\n",
       "      <td>0</td>\n",
       "      <td>0</td>\n",
       "      <td>0</td>\n",
       "      <td>...</td>\n",
       "      <td>97309</td>\n",
       "      <td>100353</td>\n",
       "      <td>102740</td>\n",
       "      <td>3855</td>\n",
       "      <td>3890</td>\n",
       "      <td>3696</td>\n",
       "      <td>4620</td>\n",
       "      <td>4049</td>\n",
       "      <td>3918</td>\n",
       "      <td>1</td>\n",
       "    </tr>\n",
       "    <tr>\n",
       "      <td>4</td>\n",
       "      <td>5</td>\n",
       "      <td>1M</td>\n",
       "      <td>F</td>\n",
       "      <td>Graduate</td>\n",
       "      <td>Other</td>\n",
       "      <td>31-45</td>\n",
       "      <td>2</td>\n",
       "      <td>2</td>\n",
       "      <td>0</td>\n",
       "      <td>0</td>\n",
       "      <td>...</td>\n",
       "      <td>435354</td>\n",
       "      <td>445271</td>\n",
       "      <td>453899</td>\n",
       "      <td>0</td>\n",
       "      <td>20790</td>\n",
       "      <td>16170</td>\n",
       "      <td>17325</td>\n",
       "      <td>16401</td>\n",
       "      <td>17325</td>\n",
       "      <td>0</td>\n",
       "    </tr>\n",
       "  </tbody>\n",
       "</table>\n",
       "<p>5 rows × 25 columns</p>\n",
       "</div>"
      ],
      "text/plain": [
       "   Client_ID Balance_Limit_V1 Gender EDUCATION_STATUS MARITAL_STATUS  \\\n",
       "0          1               1M      M         Graduate          Other   \n",
       "1          2               1M      F      High School          Other   \n",
       "2          3             100K      F      High School         Single   \n",
       "3          4             200K      F         Graduate         Single   \n",
       "4          5               1M      F         Graduate          Other   \n",
       "\n",
       "            AGE  PAY_JULY  PAY_AUG  PAY_SEP  PAY_OCT  ...  DUE_AMT_OCT  \\\n",
       "0         31-45        -1       -1       -1       -1  ...        39418   \n",
       "1  Less than 30         0       -1       -1       -1  ...        43530   \n",
       "2         31-45         4        3        2        2  ...            0   \n",
       "3         31-45         2        0        0        0  ...        97309   \n",
       "4         31-45         2        2        0        0  ...       435354   \n",
       "\n",
       "   DUE_AMT_NOV  DUE_AMT_DEC  PAID_AMT_JULY  PAID_AMT_AUG  PAID_AMT_SEP  \\\n",
       "0       162772       -13982           3437          6004         39418   \n",
       "1        80811       124590         151818         46200         43530   \n",
       "2            0            0              0             0             0   \n",
       "3       100353       102740           3855          3890          3696   \n",
       "4       445271       453899              0         20790         16170   \n",
       "\n",
       "   PAID_AMT_OCT  PAID_AMT_NOV  PAID_AMT_DEC  NEXT_MONTH_DEFAULT  \n",
       "0        162772             0        538165                   0  \n",
       "1         80811           942         33666                   0  \n",
       "2             0             0             0                   1  \n",
       "3          4620          4049          3918                   1  \n",
       "4         17325         16401         17325                   0  \n",
       "\n",
       "[5 rows x 25 columns]"
      ]
     },
     "execution_count": 3,
     "metadata": {},
     "output_type": "execute_result"
    }
   ],
   "source": [
    "data.head()\n",
    "#viewing the first 5 entries of the training set"
   ]
  },
  {
   "cell_type": "code",
   "execution_count": 4,
   "metadata": {},
   "outputs": [
    {
     "data": {
      "text/plain": [
       "array(['1M', '100K', '200K', '400K', ' 500K', '300K', '1.5M', '2.5M'],\n",
       "      dtype=object)"
      ]
     },
     "execution_count": 4,
     "metadata": {},
     "output_type": "execute_result"
    }
   ],
   "source": [
    "data['Balance_Limit_V1'].unique()\n",
    "#Identifying the categories in the Balance_Limit_V1 column"
   ]
  },
  {
   "cell_type": "code",
   "execution_count": 55,
   "metadata": {},
   "outputs": [],
   "source": [
    "#Reducing the groups by grouping similar categories\n",
    "data['Balance_Limit_V1']=np.where(data['Balance_Limit_V1']=='100K', '100K-500K',data['Balance_Limit_V1'])\n",
    "data['Balance_Limit_V1']=np.where(data['Balance_Limit_V1']=='200K', '100K-500K',data['Balance_Limit_V1'])\n",
    "data['Balance_Limit_V1']=np.where(data['Balance_Limit_V1']=='300K', '100K-500K',data['Balance_Limit_V1'])\n",
    "data['Balance_Limit_V1']=np.where(data['Balance_Limit_V1']=='400K', '100K-500K',data['Balance_Limit_V1'])\n",
    "data['Balance_Limit_V1']=np.where(data['Balance_Limit_V1']==' 500K', '100K-500K',data['Balance_Limit_V1'])"
   ]
  },
  {
   "cell_type": "code",
   "execution_count": 6,
   "metadata": {},
   "outputs": [
    {
     "data": {
      "text/plain": [
       "array(['1M', '100K-500K', '1.5M', '2.5M'], dtype=object)"
      ]
     },
     "execution_count": 6,
     "metadata": {},
     "output_type": "execute_result"
    }
   ],
   "source": [
    "data['Balance_Limit_V1'].unique()\n",
    "#Identifying the categories in the Balance_Limit_V1 column after merging"
   ]
  },
  {
   "cell_type": "code",
   "execution_count": 7,
   "metadata": {},
   "outputs": [
    {
     "data": {
      "text/plain": [
       "array(['Other', 'Single'], dtype=object)"
      ]
     },
     "execution_count": 7,
     "metadata": {},
     "output_type": "execute_result"
    }
   ],
   "source": [
    "data['MARITAL_STATUS'].unique()\n",
    "#Identifying the categories in the Marital Status column after merging"
   ]
  },
  {
   "cell_type": "code",
   "execution_count": 8,
   "metadata": {},
   "outputs": [
    {
     "data": {
      "text/plain": [
       "0    18670\n",
       "1     5330\n",
       "Name: NEXT_MONTH_DEFAULT, dtype: int64"
      ]
     },
     "execution_count": 8,
     "metadata": {},
     "output_type": "execute_result"
    }
   ],
   "source": [
    "data['NEXT_MONTH_DEFAULT'].value_counts()\n",
    "#Identifying the categories in the Next_Month_Default column after merging"
   ]
  },
  {
   "cell_type": "code",
   "execution_count": 9,
   "metadata": {},
   "outputs": [
    {
     "data": {
      "image/png": "[encoded data removed]",
      "text/plain": [
       "<Figure size 432x288 with 1 Axes>"
      ]
     },
     "metadata": {
      "needs_background": "light"
     },
     "output_type": "display_data"
    },
    {
     "data": {
      "text/plain": [
       "<Figure size 432x288 with 0 Axes>"
      ]
     },
     "metadata": {},
     "output_type": "display_data"
    }
   ],
   "source": [
    "#Count plot for NEXT MONTH DEFAULT\n",
    "sns.countplot(x='NEXT_MONTH_DEFAULT', data=data, palette='hls')\n",
    "plt.show()\n",
    "plt.savefig('count_plot')"
   ]
  },
  {
   "cell_type": "code",
   "execution_count": 56,
   "metadata": {},
   "outputs": [
    {
     "data": {
      "text/html": [
       "<div>\n",
       "<style scoped>\n",
       "    .dataframe tbody tr th:only-of-type {\n",
       "        vertical-align: middle;\n",
       "    }\n",
       "\n",
       "    .dataframe tbody tr th {\n",
       "        vertical-align: top;\n",
       "    }\n",
       "\n",
       "    .dataframe thead th {\n",
       "        text-align: right;\n",
       "    }\n",
       "</style>\n",
       "<table border=\"1\" class=\"dataframe\">\n",
       "  <thead>\n",
       "    <tr style=\"text-align: right;\">\n",
       "      <th></th>\n",
       "      <th>Client_ID</th>\n",
       "      <th>PAY_JULY</th>\n",
       "      <th>PAY_AUG</th>\n",
       "      <th>PAY_SEP</th>\n",
       "      <th>PAY_OCT</th>\n",
       "      <th>PAY_NOV</th>\n",
       "      <th>PAY_DEC</th>\n",
       "      <th>DUE_AMT_JULY</th>\n",
       "      <th>DUE_AMT_AUG</th>\n",
       "      <th>DUE_AMT_SEP</th>\n",
       "      <th>DUE_AMT_OCT</th>\n",
       "      <th>DUE_AMT_NOV</th>\n",
       "      <th>DUE_AMT_DEC</th>\n",
       "      <th>PAID_AMT_JULY</th>\n",
       "      <th>PAID_AMT_AUG</th>\n",
       "      <th>PAID_AMT_SEP</th>\n",
       "      <th>PAID_AMT_OCT</th>\n",
       "      <th>PAID_AMT_NOV</th>\n",
       "      <th>PAID_AMT_DEC</th>\n",
       "    </tr>\n",
       "    <tr>\n",
       "      <th>NEXT_MONTH_DEFAULT</th>\n",
       "      <th></th>\n",
       "      <th></th>\n",
       "      <th></th>\n",
       "      <th></th>\n",
       "      <th></th>\n",
       "      <th></th>\n",
       "      <th></th>\n",
       "      <th></th>\n",
       "      <th></th>\n",
       "      <th></th>\n",
       "      <th></th>\n",
       "      <th></th>\n",
       "      <th></th>\n",
       "      <th></th>\n",
       "      <th></th>\n",
       "      <th></th>\n",
       "      <th></th>\n",
       "      <th></th>\n",
       "      <th></th>\n",
       "    </tr>\n",
       "  </thead>\n",
       "  <tbody>\n",
       "    <tr>\n",
       "      <td>0</td>\n",
       "      <td>12070.379218</td>\n",
       "      <td>-0.209159</td>\n",
       "      <td>-0.297161</td>\n",
       "      <td>-0.30557</td>\n",
       "      <td>-0.347938</td>\n",
       "      <td>-0.382860</td>\n",
       "      <td>-0.402410</td>\n",
       "      <td>120698.410284</td>\n",
       "      <td>115412.935672</td>\n",
       "      <td>110513.657900</td>\n",
       "      <td>101133.884574</td>\n",
       "      <td>94353.630905</td>\n",
       "      <td>90824.037493</td>\n",
       "      <td>14839.278790</td>\n",
       "      <td>15648.549330</td>\n",
       "      <td>13348.943867</td>\n",
       "      <td>12312.560900</td>\n",
       "      <td>12211.672523</td>\n",
       "      <td>13488.071130</td>\n",
       "    </tr>\n",
       "    <tr>\n",
       "      <td>1</td>\n",
       "      <td>11755.726079</td>\n",
       "      <td>0.668668</td>\n",
       "      <td>0.455347</td>\n",
       "      <td>0.35591</td>\n",
       "      <td>0.248218</td>\n",
       "      <td>0.165103</td>\n",
       "      <td>0.114259</td>\n",
       "      <td>112464.222702</td>\n",
       "      <td>109378.238086</td>\n",
       "      <td>104794.528893</td>\n",
       "      <td>97636.900938</td>\n",
       "      <td>91757.125516</td>\n",
       "      <td>88647.583490</td>\n",
       "      <td>7937.380488</td>\n",
       "      <td>7625.417636</td>\n",
       "      <td>7694.211445</td>\n",
       "      <td>7416.694934</td>\n",
       "      <td>7542.545403</td>\n",
       "      <td>8143.887992</td>\n",
       "    </tr>\n",
       "  </tbody>\n",
       "</table>\n",
       "</div>"
      ],
      "text/plain": [
       "                       Client_ID  PAY_JULY   PAY_AUG  PAY_SEP   PAY_OCT  \\\n",
       "NEXT_MONTH_DEFAULT                                                        \n",
       "0                   12070.379218 -0.209159 -0.297161 -0.30557 -0.347938   \n",
       "1                   11755.726079  0.668668  0.455347  0.35591  0.248218   \n",
       "\n",
       "                     PAY_NOV   PAY_DEC   DUE_AMT_JULY    DUE_AMT_AUG  \\\n",
       "NEXT_MONTH_DEFAULT                                                     \n",
       "0                  -0.382860 -0.402410  120698.410284  115412.935672   \n",
       "1                   0.165103  0.114259  112464.222702  109378.238086   \n",
       "\n",
       "                      DUE_AMT_SEP    DUE_AMT_OCT   DUE_AMT_NOV   DUE_AMT_DEC  \\\n",
       "NEXT_MONTH_DEFAULT                                                             \n",
       "0                   110513.657900  101133.884574  94353.630905  90824.037493   \n",
       "1                   104794.528893   97636.900938  91757.125516  88647.583490   \n",
       "\n",
       "                    PAID_AMT_JULY  PAID_AMT_AUG  PAID_AMT_SEP  PAID_AMT_OCT  \\\n",
       "NEXT_MONTH_DEFAULT                                                            \n",
       "0                    14839.278790  15648.549330  13348.943867  12312.560900   \n",
       "1                     7937.380488   7625.417636   7694.211445   7416.694934   \n",
       "\n",
       "                    PAID_AMT_NOV  PAID_AMT_DEC  \n",
       "NEXT_MONTH_DEFAULT                              \n",
       "0                   12211.672523  13488.071130  \n",
       "1                    7542.545403   8143.887992  "
      ]
     },
     "execution_count": 56,
     "metadata": {},
     "output_type": "execute_result"
    }
   ],
   "source": [
    "data.groupby('NEXT_MONTH_DEFAULT').mean()"
   ]
  },
  {
   "cell_type": "code",
   "execution_count": 11,
   "metadata": {},
   "outputs": [
    {
     "data": {
      "text/html": [
       "<div>\n",
       "<style scoped>\n",
       "    .dataframe tbody tr th:only-of-type {\n",
       "        vertical-align: middle;\n",
       "    }\n",
       "\n",
       "    .dataframe tbody tr th {\n",
       "        vertical-align: top;\n",
       "    }\n",
       "\n",
       "    .dataframe thead th {\n",
       "        text-align: right;\n",
       "    }\n",
       "</style>\n",
       "<table border=\"1\" class=\"dataframe\">\n",
       "  <thead>\n",
       "    <tr style=\"text-align: right;\">\n",
       "      <th></th>\n",
       "      <th>Client_ID</th>\n",
       "      <th>PAY_JULY</th>\n",
       "      <th>PAY_AUG</th>\n",
       "      <th>PAY_SEP</th>\n",
       "      <th>PAY_OCT</th>\n",
       "      <th>PAY_NOV</th>\n",
       "      <th>PAY_DEC</th>\n",
       "      <th>DUE_AMT_JULY</th>\n",
       "      <th>DUE_AMT_AUG</th>\n",
       "      <th>DUE_AMT_SEP</th>\n",
       "      <th>DUE_AMT_OCT</th>\n",
       "      <th>DUE_AMT_NOV</th>\n",
       "      <th>DUE_AMT_DEC</th>\n",
       "      <th>PAID_AMT_JULY</th>\n",
       "      <th>PAID_AMT_AUG</th>\n",
       "      <th>PAID_AMT_SEP</th>\n",
       "      <th>PAID_AMT_OCT</th>\n",
       "      <th>PAID_AMT_NOV</th>\n",
       "      <th>PAID_AMT_DEC</th>\n",
       "      <th>NEXT_MONTH_DEFAULT</th>\n",
       "    </tr>\n",
       "    <tr>\n",
       "      <th>Balance_Limit_V1</th>\n",
       "      <th></th>\n",
       "      <th></th>\n",
       "      <th></th>\n",
       "      <th></th>\n",
       "      <th></th>\n",
       "      <th></th>\n",
       "      <th></th>\n",
       "      <th></th>\n",
       "      <th></th>\n",
       "      <th></th>\n",
       "      <th></th>\n",
       "      <th></th>\n",
       "      <th></th>\n",
       "      <th></th>\n",
       "      <th></th>\n",
       "      <th></th>\n",
       "      <th></th>\n",
       "      <th></th>\n",
       "      <th></th>\n",
       "      <th></th>\n",
       "    </tr>\n",
       "  </thead>\n",
       "  <tbody>\n",
       "    <tr>\n",
       "      <td>1.5M</td>\n",
       "      <td>11909.146749</td>\n",
       "      <td>-0.446397</td>\n",
       "      <td>-0.590510</td>\n",
       "      <td>-0.609842</td>\n",
       "      <td>-0.572056</td>\n",
       "      <td>-0.591388</td>\n",
       "      <td>-0.615114</td>\n",
       "      <td>244730.889279</td>\n",
       "      <td>231407.398067</td>\n",
       "      <td>231938.369069</td>\n",
       "      <td>218778.130053</td>\n",
       "      <td>204323.638840</td>\n",
       "      <td>196002.269772</td>\n",
       "      <td>32942.789982</td>\n",
       "      <td>48434.177504</td>\n",
       "      <td>37372.776801</td>\n",
       "      <td>32493.981547</td>\n",
       "      <td>35018.478032</td>\n",
       "      <td>41993.321617</td>\n",
       "      <td>0.121265</td>\n",
       "    </tr>\n",
       "    <tr>\n",
       "      <td>100K-500K</td>\n",
       "      <td>11875.615088</td>\n",
       "      <td>0.144068</td>\n",
       "      <td>0.051677</td>\n",
       "      <td>0.018905</td>\n",
       "      <td>-0.058433</td>\n",
       "      <td>-0.117103</td>\n",
       "      <td>-0.147090</td>\n",
       "      <td>93825.297144</td>\n",
       "      <td>90277.031231</td>\n",
       "      <td>85493.240488</td>\n",
       "      <td>77770.462724</td>\n",
       "      <td>72271.217139</td>\n",
       "      <td>69891.609814</td>\n",
       "      <td>9299.670736</td>\n",
       "      <td>8878.756015</td>\n",
       "      <td>7914.684485</td>\n",
       "      <td>7493.186618</td>\n",
       "      <td>7298.234384</td>\n",
       "      <td>7369.873059</td>\n",
       "      <td>0.254771</td>\n",
       "    </tr>\n",
       "    <tr>\n",
       "      <td>1M</td>\n",
       "      <td>12365.319778</td>\n",
       "      <td>-0.378760</td>\n",
       "      <td>-0.554529</td>\n",
       "      <td>-0.572845</td>\n",
       "      <td>-0.590657</td>\n",
       "      <td>-0.604268</td>\n",
       "      <td>-0.621408</td>\n",
       "      <td>164340.946396</td>\n",
       "      <td>157877.443959</td>\n",
       "      <td>151907.884221</td>\n",
       "      <td>140623.460763</td>\n",
       "      <td>132478.605613</td>\n",
       "      <td>126848.820534</td>\n",
       "      <td>20747.975130</td>\n",
       "      <td>21117.448496</td>\n",
       "      <td>18730.841203</td>\n",
       "      <td>17485.857335</td>\n",
       "      <td>17109.165518</td>\n",
       "      <td>20451.984540</td>\n",
       "      <td>0.149555</td>\n",
       "    </tr>\n",
       "    <tr>\n",
       "      <td>2.5M</td>\n",
       "      <td>13087.675676</td>\n",
       "      <td>-0.270270</td>\n",
       "      <td>-0.567568</td>\n",
       "      <td>-0.648649</td>\n",
       "      <td>-0.567568</td>\n",
       "      <td>-0.621622</td>\n",
       "      <td>-0.648649</td>\n",
       "      <td>355914.567568</td>\n",
       "      <td>311908.243243</td>\n",
       "      <td>304924.567568</td>\n",
       "      <td>282588.972973</td>\n",
       "      <td>276831.540541</td>\n",
       "      <td>294526.000000</td>\n",
       "      <td>39806.324324</td>\n",
       "      <td>59290.081081</td>\n",
       "      <td>72569.918919</td>\n",
       "      <td>52161.540541</td>\n",
       "      <td>91232.810811</td>\n",
       "      <td>37076.027027</td>\n",
       "      <td>0.081081</td>\n",
       "    </tr>\n",
       "  </tbody>\n",
       "</table>\n",
       "</div>"
      ],
      "text/plain": [
       "                     Client_ID  PAY_JULY   PAY_AUG   PAY_SEP   PAY_OCT  \\\n",
       "Balance_Limit_V1                                                         \n",
       "1.5M              11909.146749 -0.446397 -0.590510 -0.609842 -0.572056   \n",
       "100K-500K         11875.615088  0.144068  0.051677  0.018905 -0.058433   \n",
       "1M                12365.319778 -0.378760 -0.554529 -0.572845 -0.590657   \n",
       "2.5M              13087.675676 -0.270270 -0.567568 -0.648649 -0.567568   \n",
       "\n",
       "                   PAY_NOV   PAY_DEC   DUE_AMT_JULY    DUE_AMT_AUG  \\\n",
       "Balance_Limit_V1                                                     \n",
       "1.5M             -0.591388 -0.615114  244730.889279  231407.398067   \n",
       "100K-500K        -0.117103 -0.147090   93825.297144   90277.031231   \n",
       "1M               -0.604268 -0.621408  164340.946396  157877.443959   \n",
       "2.5M             -0.621622 -0.648649  355914.567568  311908.243243   \n",
       "\n",
       "                    DUE_AMT_SEP    DUE_AMT_OCT    DUE_AMT_NOV    DUE_AMT_DEC  \\\n",
       "Balance_Limit_V1                                                               \n",
       "1.5M              231938.369069  218778.130053  204323.638840  196002.269772   \n",
       "100K-500K          85493.240488   77770.462724   72271.217139   69891.609814   \n",
       "1M                151907.884221  140623.460763  132478.605613  126848.820534   \n",
       "2.5M              304924.567568  282588.972973  276831.540541  294526.000000   \n",
       "\n",
       "                  PAID_AMT_JULY  PAID_AMT_AUG  PAID_AMT_SEP  PAID_AMT_OCT  \\\n",
       "Balance_Limit_V1                                                            \n",
       "1.5M               32942.789982  48434.177504  37372.776801  32493.981547   \n",
       "100K-500K           9299.670736   8878.756015   7914.684485   7493.186618   \n",
       "1M                 20747.975130  21117.448496  18730.841203  17485.857335   \n",
       "2.5M               39806.324324  59290.081081  72569.918919  52161.540541   \n",
       "\n",
       "                  PAID_AMT_NOV  PAID_AMT_DEC  NEXT_MONTH_DEFAULT  \n",
       "Balance_Limit_V1                                                  \n",
       "1.5M              35018.478032  41993.321617            0.121265  \n",
       "100K-500K          7298.234384   7369.873059            0.254771  \n",
       "1M                17109.165518  20451.984540            0.149555  \n",
       "2.5M              91232.810811  37076.027027            0.081081  "
      ]
     },
     "execution_count": 11,
     "metadata": {},
     "output_type": "execute_result"
    }
   ],
   "source": [
    "data.groupby('Balance_Limit_V1').mean()"
   ]
  },
  {
   "cell_type": "code",
   "execution_count": 12,
   "metadata": {},
   "outputs": [
    {
     "data": {
      "text/html": [
       "<div>\n",
       "<style scoped>\n",
       "    .dataframe tbody tr th:only-of-type {\n",
       "        vertical-align: middle;\n",
       "    }\n",
       "\n",
       "    .dataframe tbody tr th {\n",
       "        vertical-align: top;\n",
       "    }\n",
       "\n",
       "    .dataframe thead th {\n",
       "        text-align: right;\n",
       "    }\n",
       "</style>\n",
       "<table border=\"1\" class=\"dataframe\">\n",
       "  <thead>\n",
       "    <tr style=\"text-align: right;\">\n",
       "      <th></th>\n",
       "      <th>Client_ID</th>\n",
       "      <th>PAY_JULY</th>\n",
       "      <th>PAY_AUG</th>\n",
       "      <th>PAY_SEP</th>\n",
       "      <th>PAY_OCT</th>\n",
       "      <th>PAY_NOV</th>\n",
       "      <th>PAY_DEC</th>\n",
       "      <th>DUE_AMT_JULY</th>\n",
       "      <th>DUE_AMT_AUG</th>\n",
       "      <th>DUE_AMT_SEP</th>\n",
       "      <th>DUE_AMT_OCT</th>\n",
       "      <th>DUE_AMT_NOV</th>\n",
       "      <th>DUE_AMT_DEC</th>\n",
       "      <th>PAID_AMT_JULY</th>\n",
       "      <th>PAID_AMT_AUG</th>\n",
       "      <th>PAID_AMT_SEP</th>\n",
       "      <th>PAID_AMT_OCT</th>\n",
       "      <th>PAID_AMT_NOV</th>\n",
       "      <th>PAID_AMT_DEC</th>\n",
       "      <th>NEXT_MONTH_DEFAULT</th>\n",
       "    </tr>\n",
       "    <tr>\n",
       "      <th>EDUCATION_STATUS</th>\n",
       "      <th></th>\n",
       "      <th></th>\n",
       "      <th></th>\n",
       "      <th></th>\n",
       "      <th></th>\n",
       "      <th></th>\n",
       "      <th></th>\n",
       "      <th></th>\n",
       "      <th></th>\n",
       "      <th></th>\n",
       "      <th></th>\n",
       "      <th></th>\n",
       "      <th></th>\n",
       "      <th></th>\n",
       "      <th></th>\n",
       "      <th></th>\n",
       "      <th></th>\n",
       "      <th></th>\n",
       "      <th></th>\n",
       "      <th></th>\n",
       "    </tr>\n",
       "  </thead>\n",
       "  <tbody>\n",
       "    <tr>\n",
       "      <td>Graduate</td>\n",
       "      <td>11739.728710</td>\n",
       "      <td>-0.228120</td>\n",
       "      <td>-0.403279</td>\n",
       "      <td>-0.416372</td>\n",
       "      <td>-0.453763</td>\n",
       "      <td>-0.475230</td>\n",
       "      <td>-0.483251</td>\n",
       "      <td>113599.201345</td>\n",
       "      <td>109427.062397</td>\n",
       "      <td>106439.274003</td>\n",
       "      <td>99329.403987</td>\n",
       "      <td>93868.186011</td>\n",
       "      <td>89653.174098</td>\n",
       "      <td>15737.213848</td>\n",
       "      <td>17164.146025</td>\n",
       "      <td>14898.124794</td>\n",
       "      <td>13427.697452</td>\n",
       "      <td>13330.696862</td>\n",
       "      <td>15151.714555</td>\n",
       "      <td>0.194621</td>\n",
       "    </tr>\n",
       "    <tr>\n",
       "      <td>High School</td>\n",
       "      <td>12217.631592</td>\n",
       "      <td>0.136815</td>\n",
       "      <td>0.043057</td>\n",
       "      <td>0.007643</td>\n",
       "      <td>-0.065987</td>\n",
       "      <td>-0.135796</td>\n",
       "      <td>-0.184713</td>\n",
       "      <td>110363.083822</td>\n",
       "      <td>105601.195159</td>\n",
       "      <td>101137.280764</td>\n",
       "      <td>90190.532229</td>\n",
       "      <td>84226.279236</td>\n",
       "      <td>80928.378854</td>\n",
       "      <td>11480.565605</td>\n",
       "      <td>11792.014268</td>\n",
       "      <td>9553.478217</td>\n",
       "      <td>9628.735796</td>\n",
       "      <td>8343.286115</td>\n",
       "      <td>8809.754904</td>\n",
       "      <td>0.251210</td>\n",
       "    </tr>\n",
       "    <tr>\n",
       "      <td>Other</td>\n",
       "      <td>12117.649047</td>\n",
       "      <td>0.091058</td>\n",
       "      <td>0.011124</td>\n",
       "      <td>-0.026559</td>\n",
       "      <td>-0.092007</td>\n",
       "      <td>-0.147107</td>\n",
       "      <td>-0.179529</td>\n",
       "      <td>125601.836165</td>\n",
       "      <td>120336.137967</td>\n",
       "      <td>114037.150987</td>\n",
       "      <td>104549.606019</td>\n",
       "      <td>96942.755971</td>\n",
       "      <td>94028.878417</td>\n",
       "      <td>12147.473829</td>\n",
       "      <td>12158.369061</td>\n",
       "      <td>10902.063034</td>\n",
       "      <td>10155.530654</td>\n",
       "      <td>10556.923946</td>\n",
       "      <td>11399.041735</td>\n",
       "      <td>0.232301</td>\n",
       "    </tr>\n",
       "  </tbody>\n",
       "</table>\n",
       "</div>"
      ],
      "text/plain": [
       "                     Client_ID  PAY_JULY   PAY_AUG   PAY_SEP   PAY_OCT  \\\n",
       "EDUCATION_STATUS                                                         \n",
       "Graduate          11739.728710 -0.228120 -0.403279 -0.416372 -0.453763   \n",
       "High School       12217.631592  0.136815  0.043057  0.007643 -0.065987   \n",
       "Other             12117.649047  0.091058  0.011124 -0.026559 -0.092007   \n",
       "\n",
       "                   PAY_NOV   PAY_DEC   DUE_AMT_JULY    DUE_AMT_AUG  \\\n",
       "EDUCATION_STATUS                                                     \n",
       "Graduate         -0.475230 -0.483251  113599.201345  109427.062397   \n",
       "High School      -0.135796 -0.184713  110363.083822  105601.195159   \n",
       "Other            -0.147107 -0.179529  125601.836165  120336.137967   \n",
       "\n",
       "                    DUE_AMT_SEP    DUE_AMT_OCT   DUE_AMT_NOV   DUE_AMT_DEC  \\\n",
       "EDUCATION_STATUS                                                             \n",
       "Graduate          106439.274003   99329.403987  93868.186011  89653.174098   \n",
       "High School       101137.280764   90190.532229  84226.279236  80928.378854   \n",
       "Other             114037.150987  104549.606019  96942.755971  94028.878417   \n",
       "\n",
       "                  PAID_AMT_JULY  PAID_AMT_AUG  PAID_AMT_SEP  PAID_AMT_OCT  \\\n",
       "EDUCATION_STATUS                                                            \n",
       "Graduate           15737.213848  17164.146025  14898.124794  13427.697452   \n",
       "High School        11480.565605  11792.014268   9553.478217   9628.735796   \n",
       "Other              12147.473829  12158.369061  10902.063034  10155.530654   \n",
       "\n",
       "                  PAID_AMT_NOV  PAID_AMT_DEC  NEXT_MONTH_DEFAULT  \n",
       "EDUCATION_STATUS                                                  \n",
       "Graduate          13330.696862  15151.714555            0.194621  \n",
       "High School        8343.286115   8809.754904            0.251210  \n",
       "Other             10556.923946  11399.041735            0.232301  "
      ]
     },
     "execution_count": 12,
     "metadata": {},
     "output_type": "execute_result"
    }
   ],
   "source": [
    "data.groupby('EDUCATION_STATUS').mean()"
   ]
  },
  {
   "cell_type": "code",
   "execution_count": 13,
   "metadata": {},
   "outputs": [
    {
     "data": {
      "text/html": [
       "<div>\n",
       "<style scoped>\n",
       "    .dataframe tbody tr th:only-of-type {\n",
       "        vertical-align: middle;\n",
       "    }\n",
       "\n",
       "    .dataframe tbody tr th {\n",
       "        vertical-align: top;\n",
       "    }\n",
       "\n",
       "    .dataframe thead th {\n",
       "        text-align: right;\n",
       "    }\n",
       "</style>\n",
       "<table border=\"1\" class=\"dataframe\">\n",
       "  <thead>\n",
       "    <tr style=\"text-align: right;\">\n",
       "      <th></th>\n",
       "      <th>Client_ID</th>\n",
       "      <th>PAY_JULY</th>\n",
       "      <th>PAY_AUG</th>\n",
       "      <th>PAY_SEP</th>\n",
       "      <th>PAY_OCT</th>\n",
       "      <th>PAY_NOV</th>\n",
       "      <th>PAY_DEC</th>\n",
       "      <th>DUE_AMT_JULY</th>\n",
       "      <th>DUE_AMT_AUG</th>\n",
       "      <th>DUE_AMT_SEP</th>\n",
       "      <th>DUE_AMT_OCT</th>\n",
       "      <th>DUE_AMT_NOV</th>\n",
       "      <th>DUE_AMT_DEC</th>\n",
       "      <th>PAID_AMT_JULY</th>\n",
       "      <th>PAID_AMT_AUG</th>\n",
       "      <th>PAID_AMT_SEP</th>\n",
       "      <th>PAID_AMT_OCT</th>\n",
       "      <th>PAID_AMT_NOV</th>\n",
       "      <th>PAID_AMT_DEC</th>\n",
       "      <th>NEXT_MONTH_DEFAULT</th>\n",
       "    </tr>\n",
       "    <tr>\n",
       "      <th>Gender</th>\n",
       "      <th></th>\n",
       "      <th></th>\n",
       "      <th></th>\n",
       "      <th></th>\n",
       "      <th></th>\n",
       "      <th></th>\n",
       "      <th></th>\n",
       "      <th></th>\n",
       "      <th></th>\n",
       "      <th></th>\n",
       "      <th></th>\n",
       "      <th></th>\n",
       "      <th></th>\n",
       "      <th></th>\n",
       "      <th></th>\n",
       "      <th></th>\n",
       "      <th></th>\n",
       "      <th></th>\n",
       "      <th></th>\n",
       "      <th></th>\n",
       "    </tr>\n",
       "  </thead>\n",
       "  <tbody>\n",
       "    <tr>\n",
       "      <td>F</td>\n",
       "      <td>11791.016667</td>\n",
       "      <td>0.061006</td>\n",
       "      <td>-0.032180</td>\n",
       "      <td>-0.067715</td>\n",
       "      <td>-0.135430</td>\n",
       "      <td>-0.191824</td>\n",
       "      <td>-0.230503</td>\n",
       "      <td>126120.609958</td>\n",
       "      <td>120592.629979</td>\n",
       "      <td>114184.884696</td>\n",
       "      <td>104368.974423</td>\n",
       "      <td>96996.341719</td>\n",
       "      <td>93515.033857</td>\n",
       "      <td>13299.439518</td>\n",
       "      <td>13842.945073</td>\n",
       "      <td>12459.042034</td>\n",
       "      <td>11386.335954</td>\n",
       "      <td>11259.491614</td>\n",
       "      <td>12481.516352</td>\n",
       "      <td>0.243396</td>\n",
       "    </tr>\n",
       "    <tr>\n",
       "      <td>M</td>\n",
       "      <td>12138.706846</td>\n",
       "      <td>-0.063831</td>\n",
       "      <td>-0.194606</td>\n",
       "      <td>-0.218672</td>\n",
       "      <td>-0.268396</td>\n",
       "      <td>-0.306916</td>\n",
       "      <td>-0.325380</td>\n",
       "      <td>114085.961826</td>\n",
       "      <td>109771.219087</td>\n",
       "      <td>105983.473859</td>\n",
       "      <td>97710.531881</td>\n",
       "      <td>91653.019917</td>\n",
       "      <td>88246.402282</td>\n",
       "      <td>13311.128631</td>\n",
       "      <td>13882.447856</td>\n",
       "      <td>11851.705947</td>\n",
       "      <td>11119.007676</td>\n",
       "      <td>11118.820401</td>\n",
       "      <td>12182.264523</td>\n",
       "      <td>0.208022</td>\n",
       "    </tr>\n",
       "  </tbody>\n",
       "</table>\n",
       "</div>"
      ],
      "text/plain": [
       "           Client_ID  PAY_JULY   PAY_AUG   PAY_SEP   PAY_OCT   PAY_NOV  \\\n",
       "Gender                                                                   \n",
       "F       11791.016667  0.061006 -0.032180 -0.067715 -0.135430 -0.191824   \n",
       "M       12138.706846 -0.063831 -0.194606 -0.218672 -0.268396 -0.306916   \n",
       "\n",
       "         PAY_DEC   DUE_AMT_JULY    DUE_AMT_AUG    DUE_AMT_SEP    DUE_AMT_OCT  \\\n",
       "Gender                                                                         \n",
       "F      -0.230503  126120.609958  120592.629979  114184.884696  104368.974423   \n",
       "M      -0.325380  114085.961826  109771.219087  105983.473859   97710.531881   \n",
       "\n",
       "         DUE_AMT_NOV   DUE_AMT_DEC  PAID_AMT_JULY  PAID_AMT_AUG  PAID_AMT_SEP  \\\n",
       "Gender                                                                          \n",
       "F       96996.341719  93515.033857   13299.439518  13842.945073  12459.042034   \n",
       "M       91653.019917  88246.402282   13311.128631  13882.447856  11851.705947   \n",
       "\n",
       "        PAID_AMT_OCT  PAID_AMT_NOV  PAID_AMT_DEC  NEXT_MONTH_DEFAULT  \n",
       "Gender                                                                \n",
       "F       11386.335954  11259.491614  12481.516352            0.243396  \n",
       "M       11119.007676  11118.820401  12182.264523            0.208022  "
      ]
     },
     "execution_count": 13,
     "metadata": {},
     "output_type": "execute_result"
    }
   ],
   "source": [
    "data.groupby('Gender').mean()"
   ]
  },
  {
   "cell_type": "code",
   "execution_count": 14,
   "metadata": {},
   "outputs": [
    {
     "data": {
      "text/html": [
       "<div>\n",
       "<style scoped>\n",
       "    .dataframe tbody tr th:only-of-type {\n",
       "        vertical-align: middle;\n",
       "    }\n",
       "\n",
       "    .dataframe tbody tr th {\n",
       "        vertical-align: top;\n",
       "    }\n",
       "\n",
       "    .dataframe thead th {\n",
       "        text-align: right;\n",
       "    }\n",
       "</style>\n",
       "<table border=\"1\" class=\"dataframe\">\n",
       "  <thead>\n",
       "    <tr style=\"text-align: right;\">\n",
       "      <th></th>\n",
       "      <th>Client_ID</th>\n",
       "      <th>PAY_JULY</th>\n",
       "      <th>PAY_AUG</th>\n",
       "      <th>PAY_SEP</th>\n",
       "      <th>PAY_OCT</th>\n",
       "      <th>PAY_NOV</th>\n",
       "      <th>PAY_DEC</th>\n",
       "      <th>DUE_AMT_JULY</th>\n",
       "      <th>DUE_AMT_AUG</th>\n",
       "      <th>DUE_AMT_SEP</th>\n",
       "      <th>DUE_AMT_OCT</th>\n",
       "      <th>DUE_AMT_NOV</th>\n",
       "      <th>DUE_AMT_DEC</th>\n",
       "      <th>PAID_AMT_JULY</th>\n",
       "      <th>PAID_AMT_AUG</th>\n",
       "      <th>PAID_AMT_SEP</th>\n",
       "      <th>PAID_AMT_OCT</th>\n",
       "      <th>PAID_AMT_NOV</th>\n",
       "      <th>PAID_AMT_DEC</th>\n",
       "      <th>NEXT_MONTH_DEFAULT</th>\n",
       "    </tr>\n",
       "    <tr>\n",
       "      <th>MARITAL_STATUS</th>\n",
       "      <th></th>\n",
       "      <th></th>\n",
       "      <th></th>\n",
       "      <th></th>\n",
       "      <th></th>\n",
       "      <th></th>\n",
       "      <th></th>\n",
       "      <th></th>\n",
       "      <th></th>\n",
       "      <th></th>\n",
       "      <th></th>\n",
       "      <th></th>\n",
       "      <th></th>\n",
       "      <th></th>\n",
       "      <th></th>\n",
       "      <th></th>\n",
       "      <th></th>\n",
       "      <th></th>\n",
       "      <th></th>\n",
       "      <th></th>\n",
       "    </tr>\n",
       "  </thead>\n",
       "  <tbody>\n",
       "    <tr>\n",
       "      <td>Other</td>\n",
       "      <td>11851.116756</td>\n",
       "      <td>0.004514</td>\n",
       "      <td>-0.103060</td>\n",
       "      <td>-0.124254</td>\n",
       "      <td>-0.183474</td>\n",
       "      <td>-0.228845</td>\n",
       "      <td>-0.259755</td>\n",
       "      <td>114637.853864</td>\n",
       "      <td>110108.160520</td>\n",
       "      <td>104927.776052</td>\n",
       "      <td>96739.540704</td>\n",
       "      <td>89989.544070</td>\n",
       "      <td>87210.505891</td>\n",
       "      <td>12937.766794</td>\n",
       "      <td>13217.436190</td>\n",
       "      <td>11995.709105</td>\n",
       "      <td>10717.936113</td>\n",
       "      <td>11149.615761</td>\n",
       "      <td>12104.308952</td>\n",
       "      <td>0.211477</td>\n",
       "    </tr>\n",
       "    <tr>\n",
       "      <td>Single</td>\n",
       "      <td>12179.131199</td>\n",
       "      <td>-0.036597</td>\n",
       "      <td>-0.162306</td>\n",
       "      <td>-0.199817</td>\n",
       "      <td>-0.253888</td>\n",
       "      <td>-0.299817</td>\n",
       "      <td>-0.321043</td>\n",
       "      <td>123930.180878</td>\n",
       "      <td>118813.527905</td>\n",
       "      <td>114404.281702</td>\n",
       "      <td>104683.303751</td>\n",
       "      <td>98305.986002</td>\n",
       "      <td>94083.722598</td>\n",
       "      <td>13747.388930</td>\n",
       "      <td>14643.183989</td>\n",
       "      <td>12209.607594</td>\n",
       "      <td>11831.936962</td>\n",
       "      <td>11204.777219</td>\n",
       "      <td>12536.678225</td>\n",
       "      <td>0.234767</td>\n",
       "    </tr>\n",
       "  </tbody>\n",
       "</table>\n",
       "</div>"
      ],
      "text/plain": [
       "                   Client_ID  PAY_JULY   PAY_AUG   PAY_SEP   PAY_OCT  \\\n",
       "MARITAL_STATUS                                                         \n",
       "Other           11851.116756  0.004514 -0.103060 -0.124254 -0.183474   \n",
       "Single          12179.131199 -0.036597 -0.162306 -0.199817 -0.253888   \n",
       "\n",
       "                 PAY_NOV   PAY_DEC   DUE_AMT_JULY    DUE_AMT_AUG  \\\n",
       "MARITAL_STATUS                                                     \n",
       "Other          -0.228845 -0.259755  114637.853864  110108.160520   \n",
       "Single         -0.299817 -0.321043  123930.180878  118813.527905   \n",
       "\n",
       "                  DUE_AMT_SEP    DUE_AMT_OCT   DUE_AMT_NOV   DUE_AMT_DEC  \\\n",
       "MARITAL_STATUS                                                             \n",
       "Other           104927.776052   96739.540704  89989.544070  87210.505891   \n",
       "Single          114404.281702  104683.303751  98305.986002  94083.722598   \n",
       "\n",
       "                PAID_AMT_JULY  PAID_AMT_AUG  PAID_AMT_SEP  PAID_AMT_OCT  \\\n",
       "MARITAL_STATUS                                                            \n",
       "Other            12937.766794  13217.436190  11995.709105  10717.936113   \n",
       "Single           13747.388930  14643.183989  12209.607594  11831.936962   \n",
       "\n",
       "                PAID_AMT_NOV  PAID_AMT_DEC  NEXT_MONTH_DEFAULT  \n",
       "MARITAL_STATUS                                                  \n",
       "Other           11149.615761  12104.308952            0.211477  \n",
       "Single          11204.777219  12536.678225            0.234767  "
      ]
     },
     "execution_count": 14,
     "metadata": {},
     "output_type": "execute_result"
    }
   ],
   "source": [
    "data.groupby('MARITAL_STATUS').mean()"
   ]
  },
  {
   "cell_type": "code",
   "execution_count": 15,
   "metadata": {},
   "outputs": [
    {
     "data": {
      "text/html": [
       "<div>\n",
       "<style scoped>\n",
       "    .dataframe tbody tr th:only-of-type {\n",
       "        vertical-align: middle;\n",
       "    }\n",
       "\n",
       "    .dataframe tbody tr th {\n",
       "        vertical-align: top;\n",
       "    }\n",
       "\n",
       "    .dataframe thead th {\n",
       "        text-align: right;\n",
       "    }\n",
       "</style>\n",
       "<table border=\"1\" class=\"dataframe\">\n",
       "  <thead>\n",
       "    <tr style=\"text-align: right;\">\n",
       "      <th></th>\n",
       "      <th>Client_ID</th>\n",
       "      <th>PAY_JULY</th>\n",
       "      <th>PAY_AUG</th>\n",
       "      <th>PAY_SEP</th>\n",
       "      <th>PAY_OCT</th>\n",
       "      <th>PAY_NOV</th>\n",
       "      <th>PAY_DEC</th>\n",
       "      <th>DUE_AMT_JULY</th>\n",
       "      <th>DUE_AMT_AUG</th>\n",
       "      <th>DUE_AMT_SEP</th>\n",
       "      <th>DUE_AMT_OCT</th>\n",
       "      <th>DUE_AMT_NOV</th>\n",
       "      <th>DUE_AMT_DEC</th>\n",
       "      <th>PAID_AMT_JULY</th>\n",
       "      <th>PAID_AMT_AUG</th>\n",
       "      <th>PAID_AMT_SEP</th>\n",
       "      <th>PAID_AMT_OCT</th>\n",
       "      <th>PAID_AMT_NOV</th>\n",
       "      <th>PAID_AMT_DEC</th>\n",
       "      <th>NEXT_MONTH_DEFAULT</th>\n",
       "    </tr>\n",
       "    <tr>\n",
       "      <th>AGE</th>\n",
       "      <th></th>\n",
       "      <th></th>\n",
       "      <th></th>\n",
       "      <th></th>\n",
       "      <th></th>\n",
       "      <th></th>\n",
       "      <th></th>\n",
       "      <th></th>\n",
       "      <th></th>\n",
       "      <th></th>\n",
       "      <th></th>\n",
       "      <th></th>\n",
       "      <th></th>\n",
       "      <th></th>\n",
       "      <th></th>\n",
       "      <th></th>\n",
       "      <th></th>\n",
       "      <th></th>\n",
       "      <th></th>\n",
       "      <th></th>\n",
       "    </tr>\n",
       "  </thead>\n",
       "  <tbody>\n",
       "    <tr>\n",
       "      <td>31-45</td>\n",
       "      <td>12147.798499</td>\n",
       "      <td>-0.096833</td>\n",
       "      <td>-0.231359</td>\n",
       "      <td>-0.257588</td>\n",
       "      <td>-0.306664</td>\n",
       "      <td>-0.350957</td>\n",
       "      <td>-0.367618</td>\n",
       "      <td>126555.741422</td>\n",
       "      <td>121537.708595</td>\n",
       "      <td>116901.767651</td>\n",
       "      <td>107984.983174</td>\n",
       "      <td>101239.537776</td>\n",
       "      <td>97231.576048</td>\n",
       "      <td>14631.559469</td>\n",
       "      <td>16176.696305</td>\n",
       "      <td>13584.711069</td>\n",
       "      <td>12792.978307</td>\n",
       "      <td>12390.961811</td>\n",
       "      <td>14214.700924</td>\n",
       "      <td>0.208265</td>\n",
       "    </tr>\n",
       "    <tr>\n",
       "      <td>46-65</td>\n",
       "      <td>12034.594217</td>\n",
       "      <td>-0.010120</td>\n",
       "      <td>-0.121928</td>\n",
       "      <td>-0.141446</td>\n",
       "      <td>-0.199759</td>\n",
       "      <td>-0.260964</td>\n",
       "      <td>-0.295663</td>\n",
       "      <td>125080.628675</td>\n",
       "      <td>119403.228916</td>\n",
       "      <td>114253.218795</td>\n",
       "      <td>103056.428193</td>\n",
       "      <td>95581.724096</td>\n",
       "      <td>91770.633253</td>\n",
       "      <td>13465.057590</td>\n",
       "      <td>13725.637590</td>\n",
       "      <td>12473.636627</td>\n",
       "      <td>11403.380000</td>\n",
       "      <td>11118.260000</td>\n",
       "      <td>11871.646988</td>\n",
       "      <td>0.246024</td>\n",
       "    </tr>\n",
       "    <tr>\n",
       "      <td>Less than 30</td>\n",
       "      <td>11754.893951</td>\n",
       "      <td>0.114821</td>\n",
       "      <td>0.027625</td>\n",
       "      <td>-0.008903</td>\n",
       "      <td>-0.077900</td>\n",
       "      <td>-0.118225</td>\n",
       "      <td>-0.157502</td>\n",
       "      <td>102409.464127</td>\n",
       "      <td>98487.037183</td>\n",
       "      <td>93590.163132</td>\n",
       "      <td>85906.802042</td>\n",
       "      <td>80086.699398</td>\n",
       "      <td>77704.714585</td>\n",
       "      <td>11011.100550</td>\n",
       "      <td>10319.096884</td>\n",
       "      <td>9470.010343</td>\n",
       "      <td>8630.088243</td>\n",
       "      <td>9151.984944</td>\n",
       "      <td>9487.644279</td>\n",
       "      <td>0.230558</td>\n",
       "    </tr>\n",
       "    <tr>\n",
       "      <td>More than 65</td>\n",
       "      <td>11416.420455</td>\n",
       "      <td>-0.022727</td>\n",
       "      <td>-0.238636</td>\n",
       "      <td>-0.340909</td>\n",
       "      <td>-0.352273</td>\n",
       "      <td>-0.306818</td>\n",
       "      <td>-0.193182</td>\n",
       "      <td>195724.113636</td>\n",
       "      <td>186988.056818</td>\n",
       "      <td>176537.238636</td>\n",
       "      <td>176409.545455</td>\n",
       "      <td>168786.897727</td>\n",
       "      <td>170273.113636</td>\n",
       "      <td>22497.397727</td>\n",
       "      <td>10192.818182</td>\n",
       "      <td>16322.284091</td>\n",
       "      <td>12088.477273</td>\n",
       "      <td>21841.272727</td>\n",
       "      <td>13138.806818</td>\n",
       "      <td>0.261364</td>\n",
       "    </tr>\n",
       "  </tbody>\n",
       "</table>\n",
       "</div>"
      ],
      "text/plain": [
       "                 Client_ID  PAY_JULY   PAY_AUG   PAY_SEP   PAY_OCT   PAY_NOV  \\\n",
       "AGE                                                                            \n",
       "31-45         12147.798499 -0.096833 -0.231359 -0.257588 -0.306664 -0.350957   \n",
       "46-65         12034.594217 -0.010120 -0.121928 -0.141446 -0.199759 -0.260964   \n",
       "Less than 30  11754.893951  0.114821  0.027625 -0.008903 -0.077900 -0.118225   \n",
       "More than 65  11416.420455 -0.022727 -0.238636 -0.340909 -0.352273 -0.306818   \n",
       "\n",
       "               PAY_DEC   DUE_AMT_JULY    DUE_AMT_AUG    DUE_AMT_SEP  \\\n",
       "AGE                                                                   \n",
       "31-45        -0.367618  126555.741422  121537.708595  116901.767651   \n",
       "46-65        -0.295663  125080.628675  119403.228916  114253.218795   \n",
       "Less than 30 -0.157502  102409.464127   98487.037183   93590.163132   \n",
       "More than 65 -0.193182  195724.113636  186988.056818  176537.238636   \n",
       "\n",
       "                DUE_AMT_OCT    DUE_AMT_NOV    DUE_AMT_DEC  PAID_AMT_JULY  \\\n",
       "AGE                                                                        \n",
       "31-45         107984.983174  101239.537776   97231.576048   14631.559469   \n",
       "46-65         103056.428193   95581.724096   91770.633253   13465.057590   \n",
       "Less than 30   85906.802042   80086.699398   77704.714585   11011.100550   \n",
       "More than 65  176409.545455  168786.897727  170273.113636   22497.397727   \n",
       "\n",
       "              PAID_AMT_AUG  PAID_AMT_SEP  PAID_AMT_OCT  PAID_AMT_NOV  \\\n",
       "AGE                                                                    \n",
       "31-45         16176.696305  13584.711069  12792.978307  12390.961811   \n",
       "46-65         13725.637590  12473.636627  11403.380000  11118.260000   \n",
       "Less than 30  10319.096884   9470.010343   8630.088243   9151.984944   \n",
       "More than 65  10192.818182  16322.284091  12088.477273  21841.272727   \n",
       "\n",
       "              PAID_AMT_DEC  NEXT_MONTH_DEFAULT  \n",
       "AGE                                             \n",
       "31-45         14214.700924            0.208265  \n",
       "46-65         11871.646988            0.246024  \n",
       "Less than 30   9487.644279            0.230558  \n",
       "More than 65  13138.806818            0.261364  "
      ]
     },
     "execution_count": 15,
     "metadata": {},
     "output_type": "execute_result"
    }
   ],
   "source": [
    "data.groupby('AGE').mean()"
   ]
  },
  {
   "cell_type": "code",
   "execution_count": 16,
   "metadata": {},
   "outputs": [
    {
     "data": {
      "image/png": "[encoded data removed]",
      "text/plain": [
       "<Figure size 432x288 with 1 Axes>"
      ]
     },
     "metadata": {
      "needs_background": "light"
     },
     "output_type": "display_data"
    }
   ],
   "source": [
    "table=pd.crosstab(data.Balance_Limit_V1,data.NEXT_MONTH_DEFAULT)\n",
    "table.div(table.sum(1).astype(float), axis=0).plot(kind='bar', stacked=True)\n",
    "plt.title('Stacked Bar Chart of Balance Limit vs CARD default')\n",
    "plt.xlabel('Balance Limit')\n",
    "plt.ylabel('Credit Card default')\n",
    "plt.savefig('Balance Limit vs card default')"
   ]
  },
  {
   "cell_type": "code",
   "execution_count": 17,
   "metadata": {
    "scrolled": true
   },
   "outputs": [
    {
     "data": {
      "image/png": "[encoded data removed]",
      "text/plain": [
       "<Figure size 432x288 with 1 Axes>"
      ]
     },
     "metadata": {
      "needs_background": "light"
     },
     "output_type": "display_data"
    }
   ],
   "source": [
    "table=pd.crosstab(data.AGE,data.NEXT_MONTH_DEFAULT)\n",
    "table.div(table.sum(1).astype(float), axis=0).plot(kind='bar', stacked=True)\n",
    "plt.title('Stacked Bar Chart of Age vs CARD default')\n",
    "plt.xlabel('Age')\n",
    "plt.ylabel('Credit Card default')\n",
    "plt.savefig('Age vs card default')"
   ]
  },
  {
   "cell_type": "code",
   "execution_count": 18,
   "metadata": {
    "scrolled": true
   },
   "outputs": [
    {
     "data": {
      "image/png": "[encoded data removed]",
      "text/plain": [
       "<Figure size 432x288 with 1 Axes>"
      ]
     },
     "metadata": {
      "needs_background": "light"
     },
     "output_type": "display_data"
    }
   ],
   "source": [
    "%matplotlib inline\n",
    "pd.crosstab(data.AGE,data.NEXT_MONTH_DEFAULT).plot(kind='bar')\n",
    "plt.title('Credit Card Default with Age')\n",
    "plt.xlabel('Age')\n",
    "plt.ylabel('Credit Card Default')\n",
    "plt.savefig('credit_card_default with age')\n",
    "#Graph to analyze the credit card default with age"
   ]
  },
  {
   "cell_type": "code",
   "execution_count": 19,
   "metadata": {
    "scrolled": true
   },
   "outputs": [
    {
     "data": {
      "image/png": "[encoded data removed]",
      "text/plain": [
       "<Figure size 432x288 with 1 Axes>"
      ]
     },
     "metadata": {
      "needs_background": "light"
     },
     "output_type": "display_data"
    }
   ],
   "source": [
    "table=pd.crosstab(data.Gender,data.NEXT_MONTH_DEFAULT)\n",
    "table.div(table.sum(1).astype(float), axis=0).plot(kind='bar', stacked=True)\n",
    "plt.title('Stacked Bar Chart of Gender vs CARD default')\n",
    "plt.xlabel('Gender')\n",
    "plt.ylabel('Credit Card default')\n",
    "plt.savefig('Gender vs card default')"
   ]
  },
  {
   "cell_type": "code",
   "execution_count": 20,
   "metadata": {
    "scrolled": true
   },
   "outputs": [
    {
     "data": {
      "image/png": "[encoded data removed]",
      "text/plain": [
       "<Figure size 432x288 with 1 Axes>"
      ]
     },
     "metadata": {
      "needs_background": "light"
     },
     "output_type": "display_data"
    }
   ],
   "source": [
    "%matplotlib inline\n",
    "pd.crosstab(data.Gender,data.NEXT_MONTH_DEFAULT).plot(kind='bar')\n",
    "plt.title('Credit Card Default with Gender')\n",
    "plt.xlabel('Gender')\n",
    "plt.ylabel('Credit Card Default')\n",
    "plt.savefig('credit_card_default with gender')\n",
    "#credit card default with gender"
   ]
  },
  {
   "cell_type": "code",
   "execution_count": 21,
   "metadata": {
    "scrolled": true
   },
   "outputs": [
    {
     "data": {
      "image/png": "[encoded data removed]",
      "text/plain": [
       "<Figure size 432x288 with 1 Axes>"
      ]
     },
     "metadata": {
      "needs_background": "light"
     },
     "output_type": "display_data"
    }
   ],
   "source": [
    "table=pd.crosstab(data.EDUCATION_STATUS,data.NEXT_MONTH_DEFAULT)\n",
    "table.div(table.sum(1).astype(float), axis=0).plot(kind='bar', stacked=True)\n",
    "plt.title('Stacked Bar Chart of Education vs CARD default')\n",
    "plt.xlabel('Education Status')\n",
    "plt.ylabel('Credit Card default')\n",
    "plt.savefig('education vs card default')"
   ]
  },
  {
   "cell_type": "code",
   "execution_count": 22,
   "metadata": {
    "scrolled": true
   },
   "outputs": [
    {
     "data": {
      "image/png": "[encoded data removed]",
      "text/plain": [
       "<Figure size 432x288 with 1 Axes>"
      ]
     },
     "metadata": {
      "needs_background": "light"
     },
     "output_type": "display_data"
    }
   ],
   "source": [
    "%matplotlib inline\n",
    "pd.crosstab(data.EDUCATION_STATUS,data.NEXT_MONTH_DEFAULT).plot(kind='bar')\n",
    "plt.title('Credit Card Default with Education')\n",
    "plt.xlabel('Education')\n",
    "plt.ylabel('Credit Card Default')\n",
    "plt.savefig('credit_card_default with education')\n",
    "#credit card default with education"
   ]
  },
  {
   "cell_type": "code",
   "execution_count": 23,
   "metadata": {},
   "outputs": [
    {
     "data": {
      "image/png": "[encoded data removed]",
      "text/plain": [
       "<Figure size 432x288 with 1 Axes>"
      ]
     },
     "metadata": {
      "needs_background": "light"
     },
     "output_type": "display_data"
    }
   ],
   "source": [
    "table=pd.crosstab(data.MARITAL_STATUS,data.NEXT_MONTH_DEFAULT)\n",
    "table.div(table.sum(1).astype(float), axis=0).plot(kind='bar', stacked=True)\n",
    "plt.title('Stacked Bar Chart of Marital Status vs CARD default')\n",
    "plt.xlabel('Marital Status')\n",
    "plt.ylabel('Credit Card default')\n",
    "plt.savefig('mariral_vs card default')"
   ]
  },
  {
   "cell_type": "code",
   "execution_count": 24,
   "metadata": {},
   "outputs": [
    {
     "data": {
      "image/png": "[encoded data removed]",
      "text/plain": [
       "<Figure size 432x288 with 1 Axes>"
      ]
     },
     "metadata": {
      "needs_background": "light"
     },
     "output_type": "display_data"
    }
   ],
   "source": [
    "%matplotlib inline\n",
    "pd.crosstab(data.MARITAL_STATUS,data.NEXT_MONTH_DEFAULT).plot(kind='bar')\n",
    "plt.title('Credit Card Default with Marital Status')\n",
    "plt.xlabel('Marital Status')\n",
    "plt.ylabel('Credit Card Default')\n",
    "plt.savefig('credit_card_default with marital status')\n",
    "#Credit card default with marital status"
   ]
  },
  {
   "cell_type": "code",
   "execution_count": 57,
   "metadata": {},
   "outputs": [],
   "source": [
    "#Creating dummy varibales\n",
    "cat_vars=['Balance_Limit_V1', 'Gender', 'AGE', 'EDUCATION_STATUS', 'MARITAL_STATUS', 'PAY_JULY', 'PAY_AUG', 'PAY_SEP', 'PAY_OCT', 'PAY_NOV', 'PAY_DEC']\n",
    "for var in cat_vars:\n",
    "    cat_list='var'+'_'+var\n",
    "    cat_list = pd.get_dummies(data[var], prefix=var)\n",
    "    data1=data.join(cat_list)\n",
    "    data=data1"
   ]
  },
  {
   "cell_type": "code",
   "execution_count": 58,
   "metadata": {},
   "outputs": [],
   "source": [
    "cat_vars=['Balance_Limit_V1', 'Gender', 'AGE', 'EDUCATION_STATUS', 'MARITAL_STATUS', 'PAY_JULY', 'PAY_AUG', 'PAY_SEP', 'PAY_OCT', 'PAY_NOV', 'PAY_DEC']\n",
    "data_vars=data.columns.values.tolist()\n",
    "to_keep=[i for i in data_vars if i not in cat_vars]"
   ]
  },
  {
   "cell_type": "code",
   "execution_count": 59,
   "metadata": {},
   "outputs": [
    {
     "data": {
      "text/plain": [
       "array(['DUE_AMT_JULY', 'DUE_AMT_AUG', 'DUE_AMT_SEP', 'DUE_AMT_OCT',\n",
       "       'DUE_AMT_NOV', 'DUE_AMT_DEC', 'PAID_AMT_JULY', 'PAID_AMT_AUG',\n",
       "       'PAID_AMT_SEP', 'PAID_AMT_OCT', 'PAID_AMT_NOV', 'PAID_AMT_DEC',\n",
       "       'NEXT_MONTH_DEFAULT', 'Balance_Limit_V1_1.5M',\n",
       "       'Balance_Limit_V1_100K-500K', 'Balance_Limit_V1_1M',\n",
       "       'Balance_Limit_V1_2.5M', 'Gender_F', 'Gender_M', 'AGE_31-45',\n",
       "       'AGE_46-65', 'AGE_Less than 30', 'AGE_More than 65',\n",
       "       'EDUCATION_STATUS_Graduate', 'EDUCATION_STATUS_High School',\n",
       "       'EDUCATION_STATUS_Other', 'MARITAL_STATUS_Other',\n",
       "       'MARITAL_STATUS_Single', 'PAY_JULY_-2', 'PAY_JULY_-1',\n",
       "       'PAY_JULY_0', 'PAY_JULY_1', 'PAY_JULY_2', 'PAY_JULY_3',\n",
       "       'PAY_JULY_4', 'PAY_JULY_5', 'PAY_JULY_6', 'PAY_JULY_7',\n",
       "       'PAY_JULY_8', 'PAY_AUG_-2', 'PAY_AUG_-1', 'PAY_AUG_0', 'PAY_AUG_1',\n",
       "       'PAY_AUG_2', 'PAY_AUG_3', 'PAY_AUG_4', 'PAY_AUG_5', 'PAY_AUG_6',\n",
       "       'PAY_AUG_7', 'PAY_AUG_8', 'PAY_SEP_-2', 'PAY_SEP_-1', 'PAY_SEP_0',\n",
       "       'PAY_SEP_1', 'PAY_SEP_2', 'PAY_SEP_3', 'PAY_SEP_4', 'PAY_SEP_5',\n",
       "       'PAY_SEP_6', 'PAY_SEP_7', 'PAY_SEP_8', 'PAY_OCT_-2', 'PAY_OCT_-1',\n",
       "       'PAY_OCT_0', 'PAY_OCT_1', 'PAY_OCT_2', 'PAY_OCT_3', 'PAY_OCT_4',\n",
       "       'PAY_OCT_5', 'PAY_OCT_6', 'PAY_OCT_7', 'PAY_OCT_8', 'PAY_NOV_-2',\n",
       "       'PAY_NOV_-1', 'PAY_NOV_0', 'PAY_NOV_2', 'PAY_NOV_3', 'PAY_NOV_4',\n",
       "       'PAY_NOV_5', 'PAY_NOV_6', 'PAY_NOV_7', 'PAY_NOV_8', 'PAY_DEC_-2',\n",
       "       'PAY_DEC_-1', 'PAY_DEC_0', 'PAY_DEC_2', 'PAY_DEC_3', 'PAY_DEC_4',\n",
       "       'PAY_DEC_5', 'PAY_DEC_6', 'PAY_DEC_7', 'PAY_DEC_8'], dtype=object)"
      ]
     },
     "execution_count": 59,
     "metadata": {},
     "output_type": "execute_result"
    }
   ],
   "source": [
    "#displaying dummy variables\n",
    "data_final=data[to_keep]\n",
    "del data_final['Client_ID']\n",
    "data_final.columns.values"
   ]
  },
  {
   "cell_type": "code",
   "execution_count": 28,
   "metadata": {},
   "outputs": [],
   "source": [
    "#selecting x and y variables\n",
    "data_final_vars=data_final.columns.values.tolist()\n",
    "y=['NEXT_MONTH_DEFAULT']\n",
    "X=[i for i in data_final_vars if i not in y]"
   ]
  },
  {
   "cell_type": "code",
   "execution_count": 29,
   "metadata": {},
   "outputs": [
    {
     "name": "stderr",
     "output_type": "stream",
     "text": [
      "C:\\Anaconda\\lib\\site-packages\\sklearn\\utils\\validation.py:724: DataConversionWarning: A column-vector y was passed when a 1d array was expected. Please change the shape of y to (n_samples, ), for example using ravel().\n",
      "  y = column_or_1d(y, warn=True)\n",
      "C:\\Anaconda\\lib\\site-packages\\sklearn\\linear_model\\logistic.py:432: FutureWarning: Default solver will be changed to 'lbfgs' in 0.22. Specify a solver to silence this warning.\n",
      "  FutureWarning)\n",
      "C:\\Anaconda\\lib\\site-packages\\sklearn\\linear_model\\logistic.py:432: FutureWarning: Default solver will be changed to 'lbfgs' in 0.22. Specify a solver to silence this warning.\n",
      "  FutureWarning)\n",
      "C:\\Anaconda\\lib\\site-packages\\sklearn\\linear_model\\logistic.py:432: FutureWarning: Default solver will be changed to 'lbfgs' in 0.22. Specify a solver to silence this warning.\n",
      "  FutureWarning)\n",
      "C:\\Anaconda\\lib\\site-packages\\sklearn\\linear_model\\logistic.py:432: FutureWarning: Default solver will be changed to 'lbfgs' in 0.22. Specify a solver to silence this warning.\n",
      "  FutureWarning)\n",
      "C:\\Anaconda\\lib\\site-packages\\sklearn\\linear_model\\logistic.py:432: FutureWarning: Default solver will be changed to 'lbfgs' in 0.22. Specify a solver to silence this warning.\n",
      "  FutureWarning)\n",
      "C:\\Anaconda\\lib\\site-packages\\sklearn\\linear_model\\logistic.py:432: FutureWarning: Default solver will be changed to 'lbfgs' in 0.22. Specify a solver to silence this warning.\n",
      "  FutureWarning)\n",
      "C:\\Anaconda\\lib\\site-packages\\sklearn\\linear_model\\logistic.py:432: FutureWarning: Default solver will be changed to 'lbfgs' in 0.22. Specify a solver to silence this warning.\n",
      "  FutureWarning)\n",
      "C:\\Anaconda\\lib\\site-packages\\sklearn\\linear_model\\logistic.py:432: FutureWarning: Default solver will be changed to 'lbfgs' in 0.22. Specify a solver to silence this warning.\n",
      "  FutureWarning)\n",
      "C:\\Anaconda\\lib\\site-packages\\sklearn\\linear_model\\logistic.py:432: FutureWarning: Default solver will be changed to 'lbfgs' in 0.22. Specify a solver to silence this warning.\n",
      "  FutureWarning)\n",
      "C:\\Anaconda\\lib\\site-packages\\sklearn\\linear_model\\logistic.py:432: FutureWarning: Default solver will be changed to 'lbfgs' in 0.22. Specify a solver to silence this warning.\n",
      "  FutureWarning)\n",
      "C:\\Anaconda\\lib\\site-packages\\sklearn\\linear_model\\logistic.py:432: FutureWarning: Default solver will be changed to 'lbfgs' in 0.22. Specify a solver to silence this warning.\n",
      "  FutureWarning)\n",
      "C:\\Anaconda\\lib\\site-packages\\sklearn\\linear_model\\logistic.py:432: FutureWarning: Default solver will be changed to 'lbfgs' in 0.22. Specify a solver to silence this warning.\n",
      "  FutureWarning)\n",
      "C:\\Anaconda\\lib\\site-packages\\sklearn\\linear_model\\logistic.py:432: FutureWarning: Default solver will be changed to 'lbfgs' in 0.22. Specify a solver to silence this warning.\n",
      "  FutureWarning)\n",
      "C:\\Anaconda\\lib\\site-packages\\sklearn\\linear_model\\logistic.py:432: FutureWarning: Default solver will be changed to 'lbfgs' in 0.22. Specify a solver to silence this warning.\n",
      "  FutureWarning)\n",
      "C:\\Anaconda\\lib\\site-packages\\sklearn\\linear_model\\logistic.py:432: FutureWarning: Default solver will be changed to 'lbfgs' in 0.22. Specify a solver to silence this warning.\n",
      "  FutureWarning)\n",
      "C:\\Anaconda\\lib\\site-packages\\sklearn\\linear_model\\logistic.py:432: FutureWarning: Default solver will be changed to 'lbfgs' in 0.22. Specify a solver to silence this warning.\n",
      "  FutureWarning)\n",
      "C:\\Anaconda\\lib\\site-packages\\sklearn\\linear_model\\logistic.py:432: FutureWarning: Default solver will be changed to 'lbfgs' in 0.22. Specify a solver to silence this warning.\n",
      "  FutureWarning)\n",
      "C:\\Anaconda\\lib\\site-packages\\sklearn\\linear_model\\logistic.py:432: FutureWarning: Default solver will be changed to 'lbfgs' in 0.22. Specify a solver to silence this warning.\n",
      "  FutureWarning)\n",
      "C:\\Anaconda\\lib\\site-packages\\sklearn\\linear_model\\logistic.py:432: FutureWarning: Default solver will be changed to 'lbfgs' in 0.22. Specify a solver to silence this warning.\n",
      "  FutureWarning)\n",
      "C:\\Anaconda\\lib\\site-packages\\sklearn\\linear_model\\logistic.py:432: FutureWarning: Default solver will be changed to 'lbfgs' in 0.22. Specify a solver to silence this warning.\n",
      "  FutureWarning)\n",
      "C:\\Anaconda\\lib\\site-packages\\sklearn\\linear_model\\logistic.py:432: FutureWarning: Default solver will be changed to 'lbfgs' in 0.22. Specify a solver to silence this warning.\n",
      "  FutureWarning)\n",
      "C:\\Anaconda\\lib\\site-packages\\sklearn\\linear_model\\logistic.py:432: FutureWarning: Default solver will be changed to 'lbfgs' in 0.22. Specify a solver to silence this warning.\n",
      "  FutureWarning)\n",
      "C:\\Anaconda\\lib\\site-packages\\sklearn\\linear_model\\logistic.py:432: FutureWarning: Default solver will be changed to 'lbfgs' in 0.22. Specify a solver to silence this warning.\n",
      "  FutureWarning)\n",
      "C:\\Anaconda\\lib\\site-packages\\sklearn\\linear_model\\logistic.py:432: FutureWarning: Default solver will be changed to 'lbfgs' in 0.22. Specify a solver to silence this warning.\n",
      "  FutureWarning)\n",
      "C:\\Anaconda\\lib\\site-packages\\sklearn\\linear_model\\logistic.py:432: FutureWarning: Default solver will be changed to 'lbfgs' in 0.22. Specify a solver to silence this warning.\n",
      "  FutureWarning)\n",
      "C:\\Anaconda\\lib\\site-packages\\sklearn\\linear_model\\logistic.py:432: FutureWarning: Default solver will be changed to 'lbfgs' in 0.22. Specify a solver to silence this warning.\n",
      "  FutureWarning)\n",
      "C:\\Anaconda\\lib\\site-packages\\sklearn\\linear_model\\logistic.py:432: FutureWarning: Default solver will be changed to 'lbfgs' in 0.22. Specify a solver to silence this warning.\n",
      "  FutureWarning)\n",
      "C:\\Anaconda\\lib\\site-packages\\sklearn\\linear_model\\logistic.py:432: FutureWarning: Default solver will be changed to 'lbfgs' in 0.22. Specify a solver to silence this warning.\n",
      "  FutureWarning)\n",
      "C:\\Anaconda\\lib\\site-packages\\sklearn\\linear_model\\logistic.py:432: FutureWarning: Default solver will be changed to 'lbfgs' in 0.22. Specify a solver to silence this warning.\n",
      "  FutureWarning)\n",
      "C:\\Anaconda\\lib\\site-packages\\sklearn\\linear_model\\logistic.py:432: FutureWarning: Default solver will be changed to 'lbfgs' in 0.22. Specify a solver to silence this warning.\n",
      "  FutureWarning)\n",
      "C:\\Anaconda\\lib\\site-packages\\sklearn\\linear_model\\logistic.py:432: FutureWarning: Default solver will be changed to 'lbfgs' in 0.22. Specify a solver to silence this warning.\n",
      "  FutureWarning)\n",
      "C:\\Anaconda\\lib\\site-packages\\sklearn\\linear_model\\logistic.py:432: FutureWarning: Default solver will be changed to 'lbfgs' in 0.22. Specify a solver to silence this warning.\n",
      "  FutureWarning)\n",
      "C:\\Anaconda\\lib\\site-packages\\sklearn\\linear_model\\logistic.py:432: FutureWarning: Default solver will be changed to 'lbfgs' in 0.22. Specify a solver to silence this warning.\n",
      "  FutureWarning)\n",
      "C:\\Anaconda\\lib\\site-packages\\sklearn\\linear_model\\logistic.py:432: FutureWarning: Default solver will be changed to 'lbfgs' in 0.22. Specify a solver to silence this warning.\n",
      "  FutureWarning)\n",
      "C:\\Anaconda\\lib\\site-packages\\sklearn\\linear_model\\logistic.py:432: FutureWarning: Default solver will be changed to 'lbfgs' in 0.22. Specify a solver to silence this warning.\n",
      "  FutureWarning)\n",
      "C:\\Anaconda\\lib\\site-packages\\sklearn\\linear_model\\logistic.py:432: FutureWarning: Default solver will be changed to 'lbfgs' in 0.22. Specify a solver to silence this warning.\n",
      "  FutureWarning)\n",
      "C:\\Anaconda\\lib\\site-packages\\sklearn\\linear_model\\logistic.py:432: FutureWarning: Default solver will be changed to 'lbfgs' in 0.22. Specify a solver to silence this warning.\n",
      "  FutureWarning)\n",
      "C:\\Anaconda\\lib\\site-packages\\sklearn\\linear_model\\logistic.py:432: FutureWarning: Default solver will be changed to 'lbfgs' in 0.22. Specify a solver to silence this warning.\n",
      "  FutureWarning)\n",
      "C:\\Anaconda\\lib\\site-packages\\sklearn\\linear_model\\logistic.py:432: FutureWarning: Default solver will be changed to 'lbfgs' in 0.22. Specify a solver to silence this warning.\n",
      "  FutureWarning)\n",
      "C:\\Anaconda\\lib\\site-packages\\sklearn\\linear_model\\logistic.py:432: FutureWarning: Default solver will be changed to 'lbfgs' in 0.22. Specify a solver to silence this warning.\n",
      "  FutureWarning)\n",
      "C:\\Anaconda\\lib\\site-packages\\sklearn\\linear_model\\logistic.py:432: FutureWarning: Default solver will be changed to 'lbfgs' in 0.22. Specify a solver to silence this warning.\n",
      "  FutureWarning)\n",
      "C:\\Anaconda\\lib\\site-packages\\sklearn\\linear_model\\logistic.py:432: FutureWarning: Default solver will be changed to 'lbfgs' in 0.22. Specify a solver to silence this warning.\n",
      "  FutureWarning)\n"
     ]
    },
    {
     "name": "stderr",
     "output_type": "stream",
     "text": [
      "C:\\Anaconda\\lib\\site-packages\\sklearn\\linear_model\\logistic.py:432: FutureWarning: Default solver will be changed to 'lbfgs' in 0.22. Specify a solver to silence this warning.\n",
      "  FutureWarning)\n",
      "C:\\Anaconda\\lib\\site-packages\\sklearn\\linear_model\\logistic.py:432: FutureWarning: Default solver will be changed to 'lbfgs' in 0.22. Specify a solver to silence this warning.\n",
      "  FutureWarning)\n",
      "C:\\Anaconda\\lib\\site-packages\\sklearn\\linear_model\\logistic.py:432: FutureWarning: Default solver will be changed to 'lbfgs' in 0.22. Specify a solver to silence this warning.\n",
      "  FutureWarning)\n",
      "C:\\Anaconda\\lib\\site-packages\\sklearn\\linear_model\\logistic.py:432: FutureWarning: Default solver will be changed to 'lbfgs' in 0.22. Specify a solver to silence this warning.\n",
      "  FutureWarning)\n",
      "C:\\Anaconda\\lib\\site-packages\\sklearn\\linear_model\\logistic.py:432: FutureWarning: Default solver will be changed to 'lbfgs' in 0.22. Specify a solver to silence this warning.\n",
      "  FutureWarning)\n",
      "C:\\Anaconda\\lib\\site-packages\\sklearn\\linear_model\\logistic.py:432: FutureWarning: Default solver will be changed to 'lbfgs' in 0.22. Specify a solver to silence this warning.\n",
      "  FutureWarning)\n",
      "C:\\Anaconda\\lib\\site-packages\\sklearn\\linear_model\\logistic.py:432: FutureWarning: Default solver will be changed to 'lbfgs' in 0.22. Specify a solver to silence this warning.\n",
      "  FutureWarning)\n",
      "C:\\Anaconda\\lib\\site-packages\\sklearn\\linear_model\\logistic.py:432: FutureWarning: Default solver will be changed to 'lbfgs' in 0.22. Specify a solver to silence this warning.\n",
      "  FutureWarning)\n",
      "C:\\Anaconda\\lib\\site-packages\\sklearn\\linear_model\\logistic.py:432: FutureWarning: Default solver will be changed to 'lbfgs' in 0.22. Specify a solver to silence this warning.\n",
      "  FutureWarning)\n",
      "C:\\Anaconda\\lib\\site-packages\\sklearn\\linear_model\\logistic.py:432: FutureWarning: Default solver will be changed to 'lbfgs' in 0.22. Specify a solver to silence this warning.\n",
      "  FutureWarning)\n",
      "C:\\Anaconda\\lib\\site-packages\\sklearn\\linear_model\\logistic.py:432: FutureWarning: Default solver will be changed to 'lbfgs' in 0.22. Specify a solver to silence this warning.\n",
      "  FutureWarning)\n",
      "C:\\Anaconda\\lib\\site-packages\\sklearn\\linear_model\\logistic.py:432: FutureWarning: Default solver will be changed to 'lbfgs' in 0.22. Specify a solver to silence this warning.\n",
      "  FutureWarning)\n",
      "C:\\Anaconda\\lib\\site-packages\\sklearn\\linear_model\\logistic.py:432: FutureWarning: Default solver will be changed to 'lbfgs' in 0.22. Specify a solver to silence this warning.\n",
      "  FutureWarning)\n",
      "C:\\Anaconda\\lib\\site-packages\\sklearn\\linear_model\\logistic.py:432: FutureWarning: Default solver will be changed to 'lbfgs' in 0.22. Specify a solver to silence this warning.\n",
      "  FutureWarning)\n",
      "C:\\Anaconda\\lib\\site-packages\\sklearn\\linear_model\\logistic.py:432: FutureWarning: Default solver will be changed to 'lbfgs' in 0.22. Specify a solver to silence this warning.\n",
      "  FutureWarning)\n",
      "C:\\Anaconda\\lib\\site-packages\\sklearn\\linear_model\\logistic.py:432: FutureWarning: Default solver will be changed to 'lbfgs' in 0.22. Specify a solver to silence this warning.\n",
      "  FutureWarning)\n",
      "C:\\Anaconda\\lib\\site-packages\\sklearn\\linear_model\\logistic.py:432: FutureWarning: Default solver will be changed to 'lbfgs' in 0.22. Specify a solver to silence this warning.\n",
      "  FutureWarning)\n",
      "C:\\Anaconda\\lib\\site-packages\\sklearn\\linear_model\\logistic.py:432: FutureWarning: Default solver will be changed to 'lbfgs' in 0.22. Specify a solver to silence this warning.\n",
      "  FutureWarning)\n",
      "C:\\Anaconda\\lib\\site-packages\\sklearn\\linear_model\\logistic.py:432: FutureWarning: Default solver will be changed to 'lbfgs' in 0.22. Specify a solver to silence this warning.\n",
      "  FutureWarning)\n",
      "C:\\Anaconda\\lib\\site-packages\\sklearn\\linear_model\\logistic.py:432: FutureWarning: Default solver will be changed to 'lbfgs' in 0.22. Specify a solver to silence this warning.\n",
      "  FutureWarning)\n",
      "C:\\Anaconda\\lib\\site-packages\\sklearn\\linear_model\\logistic.py:432: FutureWarning: Default solver will be changed to 'lbfgs' in 0.22. Specify a solver to silence this warning.\n",
      "  FutureWarning)\n",
      "C:\\Anaconda\\lib\\site-packages\\sklearn\\linear_model\\logistic.py:432: FutureWarning: Default solver will be changed to 'lbfgs' in 0.22. Specify a solver to silence this warning.\n",
      "  FutureWarning)\n",
      "C:\\Anaconda\\lib\\site-packages\\sklearn\\linear_model\\logistic.py:432: FutureWarning: Default solver will be changed to 'lbfgs' in 0.22. Specify a solver to silence this warning.\n",
      "  FutureWarning)\n",
      "C:\\Anaconda\\lib\\site-packages\\sklearn\\linear_model\\logistic.py:432: FutureWarning: Default solver will be changed to 'lbfgs' in 0.22. Specify a solver to silence this warning.\n",
      "  FutureWarning)\n",
      "C:\\Anaconda\\lib\\site-packages\\sklearn\\linear_model\\logistic.py:432: FutureWarning: Default solver will be changed to 'lbfgs' in 0.22. Specify a solver to silence this warning.\n",
      "  FutureWarning)\n"
     ]
    },
    {
     "name": "stdout",
     "output_type": "stream",
     "text": [
      "[ True  True  True  True  True  True  True  True  True  True  True  True\n",
      " False  True False False False  True  True False False False  True False\n",
      "  True  True False False False  True False False False False False False\n",
      " False False False False  True False False False False False False False\n",
      " False False False  True False False False False False False False False\n",
      " False False  True False False False False False False False False False\n",
      " False  True False False False False False False False False False  True\n",
      " False False False False False False False]\n",
      "[ 1  1  1  1  1  1  1  1  1  1  1  1 28  1  8 48  5  1  1 24  3 47  1 23\n",
      "  1  1  2 19 13  1 26  4 27 34 52 49 55 57 17  7  1 58 18 29 44 45 53 51\n",
      " 60 14  9  1 64 20 32 40 63 50 43 67 11 12  1 56 21 30 39 66 65 36 68 10\n",
      " 15  1 22 33 37 46 62 35 61  6 16  1 25 31 41 59 42 38 54]\n"
     ]
    },
    {
     "name": "stderr",
     "output_type": "stream",
     "text": [
      "C:\\Anaconda\\lib\\site-packages\\sklearn\\linear_model\\logistic.py:432: FutureWarning: Default solver will be changed to 'lbfgs' in 0.22. Specify a solver to silence this warning.\n",
      "  FutureWarning)\n"
     ]
    }
   ],
   "source": [
    "#analyzing the variables that won't affect the model\n",
    "from sklearn import datasets\n",
    "from sklearn.feature_selection import RFE\n",
    "from sklearn.linear_model import LogisticRegression\n",
    "\n",
    "logreg = LogisticRegression()\n",
    "\n",
    "rfe = RFE(logreg, 24)\n",
    "rfe = rfe.fit(data_final[X], data_final[y] )\n",
    "print(rfe.support_)\n",
    "print(rfe.ranking_)"
   ]
  },
  {
   "cell_type": "code",
   "execution_count": 30,
   "metadata": {},
   "outputs": [],
   "source": [
    "#selecting X with the variables that are going to used for training\n",
    "cols=['DUE_AMT_JULY', 'DUE_AMT_AUG', 'DUE_AMT_SEP', 'DUE_AMT_OCT','DUE_AMT_NOV','DUE_AMT_DEC', 'PAID_AMT_JULY', 'PAID_AMT_AUG', 'PAID_AMT_SEP', 'PAID_AMT_OCT', 'PAID_AMT_NOV', 'PAID_AMT_DEC',\n",
    "     'Balance_Limit_V1_1.5M','Gender_F', 'Gender_M','AGE_More than 65', 'EDUCATION_STATUS_High School', 'EDUCATION_STATUS_Other', 'PAY_JULY_-1', 'PAY_AUG_-1','PAY_SEP_-1', 'PAY_OCT_-1', 'PAY_NOV_-1', 'PAY_DEC_-1'] \n",
    "X=data_final[cols]\n",
    "y=data_final['NEXT_MONTH_DEFAULT']"
   ]
  },
  {
   "cell_type": "code",
   "execution_count": 31,
   "metadata": {},
   "outputs": [
    {
     "name": "stdout",
     "output_type": "stream",
     "text": [
      "Optimization terminated successfully.\n",
      "         Current function value: 0.511267\n",
      "         Iterations 8\n",
      "                           Logit Regression Results                           \n",
      "==============================================================================\n",
      "Dep. Variable:     NEXT_MONTH_DEFAULT   No. Observations:                24000\n",
      "Model:                          Logit   Df Residuals:                    23976\n",
      "Method:                           MLE   Df Model:                           23\n",
      "Date:                Mon, 17 Feb 2020   Pseudo R-squ.:                 0.03449\n",
      "Time:                        04:10:45   Log-Likelihood:                -12270.\n",
      "converged:                       True   LL-Null:                       -12709.\n",
      "Covariance Type:            nonrobust   LLR p-value:                1.986e-170\n",
      "================================================================================================\n",
      "                                   coef    std err          z      P>|z|      [0.025      0.975]\n",
      "------------------------------------------------------------------------------------------------\n",
      "DUE_AMT_JULY                 -3.722e-06   5.66e-07     -6.570      0.000   -4.83e-06   -2.61e-06\n",
      "DUE_AMT_AUG                   1.308e-06   7.48e-07      1.748      0.080   -1.58e-07    2.77e-06\n",
      "DUE_AMT_SEP                   1.294e-06   6.64e-07      1.948      0.051   -8.28e-09     2.6e-06\n",
      "DUE_AMT_OCT                   1.125e-06   6.64e-07      1.695      0.090   -1.76e-07    2.43e-06\n",
      "DUE_AMT_NOV                   8.064e-07   6.85e-07      1.177      0.239   -5.36e-07    2.15e-06\n",
      "DUE_AMT_DEC                   4.273e-07   5.35e-07      0.799      0.424   -6.21e-07    1.48e-06\n",
      "PAID_AMT_JULY                -1.174e-05   1.35e-06     -8.724      0.000   -1.44e-05    -9.1e-06\n",
      "PAID_AMT_AUG                 -1.073e-05   1.34e-06     -8.002      0.000   -1.34e-05    -8.1e-06\n",
      "PAID_AMT_SEP                 -4.547e-06    9.9e-07     -4.592      0.000   -6.49e-06   -2.61e-06\n",
      "PAID_AMT_OCT                 -3.274e-06   9.22e-07     -3.552      0.000   -5.08e-06   -1.47e-06\n",
      "PAID_AMT_NOV                 -2.473e-06   8.79e-07     -2.814      0.005    -4.2e-06   -7.51e-07\n",
      "PAID_AMT_DEC                 -1.403e-06    6.1e-07     -2.298      0.022    -2.6e-06   -2.06e-07\n",
      "Balance_Limit_V1_1.5M           -0.3282      0.097     -3.384      0.001      -0.518      -0.138\n",
      "Gender_F                        -0.8858      0.039    -22.605      0.000      -0.963      -0.809\n",
      "Gender_M                        -1.0956      0.038    -29.123      0.000      -1.169      -1.022\n",
      "AGE_More than 65                 0.1782      0.249      0.717      0.473      -0.309       0.665\n",
      "EDUCATION_STATUS_High School     0.2007      0.047      4.269      0.000       0.109       0.293\n",
      "EDUCATION_STATUS_Other           0.1192      0.036      3.294      0.001       0.048       0.190\n",
      "PAY_JULY_-1                     -0.0604      0.067     -0.908      0.364      -0.191       0.070\n",
      "PAY_AUG_-1                      -0.0442      0.077     -0.574      0.566      -0.195       0.107\n",
      "PAY_SEP_-1                      -0.0978      0.075     -1.309      0.190      -0.244       0.049\n",
      "PAY_OCT_-1                      -0.1131      0.073     -1.555      0.120      -0.256       0.029\n",
      "PAY_NOV_-1                      -0.0868      0.071     -1.226      0.220      -0.226       0.052\n",
      "PAY_DEC_-1                       0.0059      0.063      0.095      0.925      -0.117       0.129\n",
      "================================================================================================\n"
     ]
    }
   ],
   "source": [
    "#building a model\n",
    "import statsmodels.api as sm\n",
    "logit_model=sm.Logit(y,X)\n",
    "result=logit_model.fit()\n",
    "print(result.summary())"
   ]
  },
  {
   "cell_type": "code",
   "execution_count": 32,
   "metadata": {},
   "outputs": [
    {
     "name": "stderr",
     "output_type": "stream",
     "text": [
      "C:\\Anaconda\\lib\\site-packages\\sklearn\\linear_model\\logistic.py:432: FutureWarning: Default solver will be changed to 'lbfgs' in 0.22. Specify a solver to silence this warning.\n",
      "  FutureWarning)\n"
     ]
    },
    {
     "data": {
      "text/plain": [
       "LogisticRegression(C=1.0, class_weight=None, dual=False, fit_intercept=True,\n",
       "                   intercept_scaling=1, l1_ratio=None, max_iter=100,\n",
       "                   multi_class='warn', n_jobs=None, penalty='l2',\n",
       "                   random_state=None, solver='warn', tol=0.0001, verbose=0,\n",
       "                   warm_start=False)"
      ]
     },
     "execution_count": 32,
     "metadata": {},
     "output_type": "execute_result"
    }
   ],
   "source": [
    "#training the model with train and test data obtained from the train csv file\n",
    "X_train, X_test, y_train, y_test = train_test_split(X, y, test_size=0.05, random_state=0)\n",
    "from sklearn.linear_model import LogisticRegression\n",
    "from sklearn import metrics\n",
    "logreg = LogisticRegression()\n",
    "logreg.fit(X_train, y_train)"
   ]
  },
  {
   "cell_type": "code",
   "execution_count": 63,
   "metadata": {},
   "outputs": [
    {
     "ename": "ValueError",
     "evalue": "columns overlap but no suffix specified: Index(['Balance_Limit_V1_ 500K', 'Balance_Limit_V1_1.5M',\n       'Balance_Limit_V1_100K', 'Balance_Limit_V1_1M', 'Balance_Limit_V1_2.5M',\n       'Balance_Limit_V1_200K', 'Balance_Limit_V1_300K',\n       'Balance_Limit_V1_400K'],\n      dtype='object')",
     "output_type": "error",
     "traceback": [
      "\u001b[1;31m---------------------------------------------------------------------------\u001b[0m",
      "\u001b[1;31mValueError\u001b[0m                                Traceback (most recent call last)",
      "\u001b[1;32m<ipython-input-63-5eb68671e39b>\u001b[0m in \u001b[0;36m<module>\u001b[1;34m\u001b[0m\n\u001b[0;32m      3\u001b[0m     \u001b[0mtest_cat_list\u001b[0m\u001b[1;33m=\u001b[0m\u001b[1;34m'var'\u001b[0m\u001b[1;33m+\u001b[0m\u001b[1;34m'_'\u001b[0m\u001b[1;33m+\u001b[0m\u001b[0mvar\u001b[0m\u001b[1;33m\u001b[0m\u001b[1;33m\u001b[0m\u001b[0m\n\u001b[0;32m      4\u001b[0m     \u001b[0mtest_cat_list\u001b[0m \u001b[1;33m=\u001b[0m \u001b[0mpd\u001b[0m\u001b[1;33m.\u001b[0m\u001b[0mget_dummies\u001b[0m\u001b[1;33m(\u001b[0m\u001b[0mtest_data\u001b[0m\u001b[1;33m[\u001b[0m\u001b[0mvar\u001b[0m\u001b[1;33m]\u001b[0m\u001b[1;33m,\u001b[0m \u001b[0mprefix\u001b[0m\u001b[1;33m=\u001b[0m\u001b[0mvar\u001b[0m\u001b[1;33m)\u001b[0m\u001b[1;33m\u001b[0m\u001b[1;33m\u001b[0m\u001b[0m\n\u001b[1;32m----> 5\u001b[1;33m     \u001b[0mtest_data1\u001b[0m\u001b[1;33m=\u001b[0m\u001b[0mtest_data\u001b[0m\u001b[1;33m.\u001b[0m\u001b[0mjoin\u001b[0m\u001b[1;33m(\u001b[0m\u001b[0mtest_cat_list\u001b[0m\u001b[1;33m)\u001b[0m\u001b[1;33m\u001b[0m\u001b[1;33m\u001b[0m\u001b[0m\n\u001b[0m\u001b[0;32m      6\u001b[0m     \u001b[0mtest_data\u001b[0m\u001b[1;33m=\u001b[0m\u001b[0mtest_data1\u001b[0m\u001b[1;33m\u001b[0m\u001b[1;33m\u001b[0m\u001b[0m\n",
      "\u001b[1;32mC:\\Anaconda\\lib\\site-packages\\pandas\\core\\frame.py\u001b[0m in \u001b[0;36mjoin\u001b[1;34m(self, other, on, how, lsuffix, rsuffix, sort)\u001b[0m\n\u001b[0;32m   7244\u001b[0m         \u001b[1;31m# For SparseDataFrame's benefit\u001b[0m\u001b[1;33m\u001b[0m\u001b[1;33m\u001b[0m\u001b[1;33m\u001b[0m\u001b[0m\n\u001b[0;32m   7245\u001b[0m         return self._join_compat(\n\u001b[1;32m-> 7246\u001b[1;33m             \u001b[0mother\u001b[0m\u001b[1;33m,\u001b[0m \u001b[0mon\u001b[0m\u001b[1;33m=\u001b[0m\u001b[0mon\u001b[0m\u001b[1;33m,\u001b[0m \u001b[0mhow\u001b[0m\u001b[1;33m=\u001b[0m\u001b[0mhow\u001b[0m\u001b[1;33m,\u001b[0m \u001b[0mlsuffix\u001b[0m\u001b[1;33m=\u001b[0m\u001b[0mlsuffix\u001b[0m\u001b[1;33m,\u001b[0m \u001b[0mrsuffix\u001b[0m\u001b[1;33m=\u001b[0m\u001b[0mrsuffix\u001b[0m\u001b[1;33m,\u001b[0m \u001b[0msort\u001b[0m\u001b[1;33m=\u001b[0m\u001b[0msort\u001b[0m\u001b[1;33m\u001b[0m\u001b[1;33m\u001b[0m\u001b[0m\n\u001b[0m\u001b[0;32m   7247\u001b[0m         )\n\u001b[0;32m   7248\u001b[0m \u001b[1;33m\u001b[0m\u001b[0m\n",
      "\u001b[1;32mC:\\Anaconda\\lib\\site-packages\\pandas\\core\\frame.py\u001b[0m in \u001b[0;36m_join_compat\u001b[1;34m(self, other, on, how, lsuffix, rsuffix, sort)\u001b[0m\n\u001b[0;32m   7267\u001b[0m                 \u001b[0mright_index\u001b[0m\u001b[1;33m=\u001b[0m\u001b[1;32mTrue\u001b[0m\u001b[1;33m,\u001b[0m\u001b[1;33m\u001b[0m\u001b[1;33m\u001b[0m\u001b[0m\n\u001b[0;32m   7268\u001b[0m                 \u001b[0msuffixes\u001b[0m\u001b[1;33m=\u001b[0m\u001b[1;33m(\u001b[0m\u001b[0mlsuffix\u001b[0m\u001b[1;33m,\u001b[0m \u001b[0mrsuffix\u001b[0m\u001b[1;33m)\u001b[0m\u001b[1;33m,\u001b[0m\u001b[1;33m\u001b[0m\u001b[1;33m\u001b[0m\u001b[0m\n\u001b[1;32m-> 7269\u001b[1;33m                 \u001b[0msort\u001b[0m\u001b[1;33m=\u001b[0m\u001b[0msort\u001b[0m\u001b[1;33m,\u001b[0m\u001b[1;33m\u001b[0m\u001b[1;33m\u001b[0m\u001b[0m\n\u001b[0m\u001b[0;32m   7270\u001b[0m             )\n\u001b[0;32m   7271\u001b[0m         \u001b[1;32melse\u001b[0m\u001b[1;33m:\u001b[0m\u001b[1;33m\u001b[0m\u001b[1;33m\u001b[0m\u001b[0m\n",
      "\u001b[1;32mC:\\Anaconda\\lib\\site-packages\\pandas\\core\\reshape\\merge.py\u001b[0m in \u001b[0;36mmerge\u001b[1;34m(left, right, how, on, left_on, right_on, left_index, right_index, sort, suffixes, copy, indicator, validate)\u001b[0m\n\u001b[0;32m     81\u001b[0m         \u001b[0mvalidate\u001b[0m\u001b[1;33m=\u001b[0m\u001b[0mvalidate\u001b[0m\u001b[1;33m,\u001b[0m\u001b[1;33m\u001b[0m\u001b[1;33m\u001b[0m\u001b[0m\n\u001b[0;32m     82\u001b[0m     )\n\u001b[1;32m---> 83\u001b[1;33m     \u001b[1;32mreturn\u001b[0m \u001b[0mop\u001b[0m\u001b[1;33m.\u001b[0m\u001b[0mget_result\u001b[0m\u001b[1;33m(\u001b[0m\u001b[1;33m)\u001b[0m\u001b[1;33m\u001b[0m\u001b[1;33m\u001b[0m\u001b[0m\n\u001b[0m\u001b[0;32m     84\u001b[0m \u001b[1;33m\u001b[0m\u001b[0m\n\u001b[0;32m     85\u001b[0m \u001b[1;33m\u001b[0m\u001b[0m\n",
      "\u001b[1;32mC:\\Anaconda\\lib\\site-packages\\pandas\\core\\reshape\\merge.py\u001b[0m in \u001b[0;36mget_result\u001b[1;34m(self)\u001b[0m\n\u001b[0;32m    646\u001b[0m \u001b[1;33m\u001b[0m\u001b[0m\n\u001b[0;32m    647\u001b[0m         llabels, rlabels = _items_overlap_with_suffix(\n\u001b[1;32m--> 648\u001b[1;33m             \u001b[0mldata\u001b[0m\u001b[1;33m.\u001b[0m\u001b[0mitems\u001b[0m\u001b[1;33m,\u001b[0m \u001b[0mlsuf\u001b[0m\u001b[1;33m,\u001b[0m \u001b[0mrdata\u001b[0m\u001b[1;33m.\u001b[0m\u001b[0mitems\u001b[0m\u001b[1;33m,\u001b[0m \u001b[0mrsuf\u001b[0m\u001b[1;33m\u001b[0m\u001b[1;33m\u001b[0m\u001b[0m\n\u001b[0m\u001b[0;32m    649\u001b[0m         )\n\u001b[0;32m    650\u001b[0m \u001b[1;33m\u001b[0m\u001b[0m\n",
      "\u001b[1;32mC:\\Anaconda\\lib\\site-packages\\pandas\\core\\reshape\\merge.py\u001b[0m in \u001b[0;36m_items_overlap_with_suffix\u001b[1;34m(left, lsuffix, right, rsuffix)\u001b[0m\n\u001b[0;32m   2009\u001b[0m         raise ValueError(\n\u001b[0;32m   2010\u001b[0m             \u001b[1;34m\"columns overlap but no suffix specified: \"\u001b[0m\u001b[1;33m\u001b[0m\u001b[1;33m\u001b[0m\u001b[0m\n\u001b[1;32m-> 2011\u001b[1;33m             \u001b[1;34m\"{rename}\"\u001b[0m\u001b[1;33m.\u001b[0m\u001b[0mformat\u001b[0m\u001b[1;33m(\u001b[0m\u001b[0mrename\u001b[0m\u001b[1;33m=\u001b[0m\u001b[0mto_rename\u001b[0m\u001b[1;33m)\u001b[0m\u001b[1;33m\u001b[0m\u001b[1;33m\u001b[0m\u001b[0m\n\u001b[0m\u001b[0;32m   2012\u001b[0m         )\n\u001b[0;32m   2013\u001b[0m \u001b[1;33m\u001b[0m\u001b[0m\n",
      "\u001b[1;31mValueError\u001b[0m: columns overlap but no suffix specified: Index(['Balance_Limit_V1_ 500K', 'Balance_Limit_V1_1.5M',\n       'Balance_Limit_V1_100K', 'Balance_Limit_V1_1M', 'Balance_Limit_V1_2.5M',\n       'Balance_Limit_V1_200K', 'Balance_Limit_V1_300K',\n       'Balance_Limit_V1_400K'],\n      dtype='object')"
     ]
    }
   ],
   "source": [
    "test_cat_vars=['Balance_Limit_V1', 'Gender', 'AGE', 'EDUCATION_STATUS', 'MARITAL_STATUS', 'PAY_JULY', 'PAY_AUG', 'PAY_SEP', 'PAY_OCT', 'PAY_NOV', 'PAY_DEC']\n",
    "for var in test_cat_vars:\n",
    "    test_cat_list='var'+'_'+var\n",
    "    test_cat_list = pd.get_dummies(test_data[var], prefix=var)\n",
    "    test_data1=test_data.join(test_cat_list)\n",
    "    test_data=test_data1"
   ]
  },
  {
   "cell_type": "code",
   "execution_count": 66,
   "metadata": {},
   "outputs": [],
   "source": [
    "test_cat_vars=['Balance_Limit_V1', 'Gender', 'AGE', 'EDUCATION_STATUS', 'MARITAL_STATUS', 'PAY_JULY', 'PAY_AUG', 'PAY_SEP', 'PAY_OCT', 'PAY_NOV', 'PAY_DEC']\n",
    "test_data_vars=test_data.columns.values.tolist()\n",
    "to_keep=[i for i in test_data_vars if i not in test_cat_vars]"
   ]
  },
  {
   "cell_type": "code",
   "execution_count": 68,
   "metadata": {},
   "outputs": [
    {
     "data": {
      "text/plain": [
       "array(['DUE_AMT_JULY', 'DUE_AMT_AUG', 'DUE_AMT_SEP', 'DUE_AMT_OCT',\n",
       "       'DUE_AMT_NOV', 'DUE_AMT_DEC', 'PAID_AMT_JULY', 'PAID_AMT_AUG',\n",
       "       'PAID_AMT_SEP', 'PAID_AMT_OCT', 'PAID_AMT_NOV', 'PAID_AMT_DEC',\n",
       "       'Balance_Limit_V1_ 500K', 'Balance_Limit_V1_1.5M',\n",
       "       'Balance_Limit_V1_100K', 'Balance_Limit_V1_1M',\n",
       "       'Balance_Limit_V1_2.5M', 'Balance_Limit_V1_200K',\n",
       "       'Balance_Limit_V1_300K', 'Balance_Limit_V1_400K', 'Gender_F',\n",
       "       'Gender_M', 'AGE_31-45', 'AGE_46-65', 'AGE_Less than 30',\n",
       "       'AGE_More than 65', 'EDUCATION_STATUS_Graduate',\n",
       "       'EDUCATION_STATUS_High School', 'EDUCATION_STATUS_Other',\n",
       "       'MARITAL_STATUS_Other', 'MARITAL_STATUS_Single', 'PAY_JULY_-2',\n",
       "       'PAY_JULY_-1', 'PAY_JULY_0', 'PAY_JULY_1', 'PAY_JULY_2',\n",
       "       'PAY_JULY_3', 'PAY_JULY_4', 'PAY_JULY_5', 'PAY_JULY_6',\n",
       "       'PAY_JULY_7', 'PAY_JULY_8', 'PAY_AUG_-2', 'PAY_AUG_-1',\n",
       "       'PAY_AUG_0', 'PAY_AUG_1', 'PAY_AUG_2', 'PAY_AUG_3', 'PAY_AUG_4',\n",
       "       'PAY_AUG_5', 'PAY_AUG_6', 'PAY_AUG_7', 'PAY_SEP_-2', 'PAY_SEP_-1',\n",
       "       'PAY_SEP_0', 'PAY_SEP_2', 'PAY_SEP_3', 'PAY_SEP_4', 'PAY_SEP_5',\n",
       "       'PAY_SEP_6', 'PAY_SEP_7', 'PAY_SEP_8', 'PAY_OCT_-2', 'PAY_OCT_-1',\n",
       "       'PAY_OCT_0', 'PAY_OCT_2', 'PAY_OCT_3', 'PAY_OCT_4', 'PAY_OCT_5',\n",
       "       'PAY_OCT_6', 'PAY_OCT_7', 'PAY_NOV_-2', 'PAY_NOV_-1', 'PAY_NOV_0',\n",
       "       'PAY_NOV_2', 'PAY_NOV_3', 'PAY_NOV_4', 'PAY_NOV_5', 'PAY_NOV_6',\n",
       "       'PAY_NOV_7', 'PAY_DEC_-2', 'PAY_DEC_-1', 'PAY_DEC_0', 'PAY_DEC_2',\n",
       "       'PAY_DEC_3', 'PAY_DEC_4', 'PAY_DEC_5', 'PAY_DEC_6', 'PAY_DEC_7'],\n",
       "      dtype=object)"
      ]
     },
     "execution_count": 68,
     "metadata": {},
     "output_type": "execute_result"
    }
   ],
   "source": [
    "test_data_final=test_data[to_keep]\n",
    "del test_data_final['Client_ID']\n",
    "test_data_final.columns.values"
   ]
  },
  {
   "cell_type": "code",
   "execution_count": 69,
   "metadata": {},
   "outputs": [],
   "source": [
    "test_data_final_vars=test_data_final.columns.values.tolist()\n",
    "test_X=[i for i in test_data_final_vars if i not in y]"
   ]
  },
  {
   "cell_type": "code",
   "execution_count": 70,
   "metadata": {},
   "outputs": [
    {
     "data": {
      "text/plain": [
       "6000"
      ]
     },
     "execution_count": 70,
     "metadata": {},
     "output_type": "execute_result"
    }
   ],
   "source": [
    "test_cols=['DUE_AMT_JULY', 'DUE_AMT_AUG', 'DUE_AMT_SEP', 'DUE_AMT_OCT','DUE_AMT_NOV','DUE_AMT_DEC', 'PAID_AMT_JULY', 'PAID_AMT_AUG', 'PAID_AMT_SEP', 'PAID_AMT_OCT', 'PAID_AMT_NOV', 'PAID_AMT_DEC',\n",
    "     'Balance_Limit_V1_1.5M','Gender_F', 'Gender_M','AGE_More than 65', 'EDUCATION_STATUS_High School', 'EDUCATION_STATUS_Other', 'PAY_JULY_-1', 'PAY_AUG_-1','PAY_SEP_-1', 'PAY_OCT_-1', 'PAY_NOV_-1', 'PAY_DEC_-1'] \n",
    "test_X=test_data_final[test_cols]\n",
    "len(test_X)"
   ]
  },
  {
   "cell_type": "code",
   "execution_count": 71,
   "metadata": {},
   "outputs": [],
   "source": [
    "#predicting the test set results\n",
    "y_pred = logreg.predict(X_test)"
   ]
  },
  {
   "cell_type": "code",
   "execution_count": 72,
   "metadata": {},
   "outputs": [
    {
     "name": "stdout",
     "output_type": "stream",
     "text": [
      "Accuracy of logistic regression classifier on test set: 0.78\n"
     ]
    }
   ],
   "source": [
    "#calculating the accuracy\n",
    "print('Accuracy of logistic regression classifier on test set: {:.2f}'.format(logreg.score(X_test, y_test)))"
   ]
  },
  {
   "cell_type": "code",
   "execution_count": 74,
   "metadata": {},
   "outputs": [
    {
     "name": "stderr",
     "output_type": "stream",
     "text": [
      "C:\\Anaconda\\lib\\site-packages\\sklearn\\linear_model\\logistic.py:432: FutureWarning: Default solver will be changed to 'lbfgs' in 0.22. Specify a solver to silence this warning.\n",
      "  FutureWarning)\n",
      "C:\\Anaconda\\lib\\site-packages\\sklearn\\linear_model\\logistic.py:432: FutureWarning: Default solver will be changed to 'lbfgs' in 0.22. Specify a solver to silence this warning.\n",
      "  FutureWarning)\n",
      "C:\\Anaconda\\lib\\site-packages\\sklearn\\linear_model\\logistic.py:432: FutureWarning: Default solver will be changed to 'lbfgs' in 0.22. Specify a solver to silence this warning.\n",
      "  FutureWarning)\n",
      "C:\\Anaconda\\lib\\site-packages\\sklearn\\linear_model\\logistic.py:432: FutureWarning: Default solver will be changed to 'lbfgs' in 0.22. Specify a solver to silence this warning.\n",
      "  FutureWarning)\n",
      "C:\\Anaconda\\lib\\site-packages\\sklearn\\linear_model\\logistic.py:432: FutureWarning: Default solver will be changed to 'lbfgs' in 0.22. Specify a solver to silence this warning.\n",
      "  FutureWarning)\n",
      "C:\\Anaconda\\lib\\site-packages\\sklearn\\linear_model\\logistic.py:432: FutureWarning: Default solver will be changed to 'lbfgs' in 0.22. Specify a solver to silence this warning.\n",
      "  FutureWarning)\n",
      "C:\\Anaconda\\lib\\site-packages\\sklearn\\linear_model\\logistic.py:432: FutureWarning: Default solver will be changed to 'lbfgs' in 0.22. Specify a solver to silence this warning.\n",
      "  FutureWarning)\n",
      "C:\\Anaconda\\lib\\site-packages\\sklearn\\linear_model\\logistic.py:432: FutureWarning: Default solver will be changed to 'lbfgs' in 0.22. Specify a solver to silence this warning.\n",
      "  FutureWarning)\n",
      "C:\\Anaconda\\lib\\site-packages\\sklearn\\linear_model\\logistic.py:432: FutureWarning: Default solver will be changed to 'lbfgs' in 0.22. Specify a solver to silence this warning.\n",
      "  FutureWarning)\n"
     ]
    },
    {
     "name": "stdout",
     "output_type": "stream",
     "text": [
      "10-fold cross validation average accuracy: 0.781\n"
     ]
    },
    {
     "name": "stderr",
     "output_type": "stream",
     "text": [
      "C:\\Anaconda\\lib\\site-packages\\sklearn\\linear_model\\logistic.py:432: FutureWarning: Default solver will be changed to 'lbfgs' in 0.22. Specify a solver to silence this warning.\n",
      "  FutureWarning)\n"
     ]
    }
   ],
   "source": [
    "from sklearn import model_selection\n",
    "from sklearn.model_selection import cross_val_score\n",
    "kfold = model_selection.KFold(n_splits=10, random_state=7)\n",
    "modelCV = LogisticRegression()\n",
    "scoring = 'accuracy'\n",
    "results = model_selection.cross_val_score(modelCV, X_train, y_train, cv=kfold, scoring=scoring)\n",
    "print(\"10-fold cross validation average accuracy: %.3f\" % (results.mean()))"
   ]
  },
  {
   "cell_type": "code",
   "execution_count": 75,
   "metadata": {},
   "outputs": [
    {
     "name": "stdout",
     "output_type": "stream",
     "text": [
      "[[928   3]\n",
      " [264   5]]\n"
     ]
    }
   ],
   "source": [
    "from sklearn.metrics import confusion_matrix\n",
    "confusion_matrix = confusion_matrix(y_test, y_pred)\n",
    "print(confusion_matrix)\n",
    "\n",
    "#the below results states that\n",
    "#we have 928+3 correct results\n",
    "#we have 264+5 incorrect results"
   ]
  },
  {
   "cell_type": "code",
   "execution_count": 76,
   "metadata": {},
   "outputs": [
    {
     "name": "stdout",
     "output_type": "stream",
     "text": [
      "              precision    recall  f1-score   support\n",
      "\n",
      "           0       0.78      1.00      0.87       931\n",
      "           1       0.62      0.02      0.04       269\n",
      "\n",
      "    accuracy                           0.78      1200\n",
      "   macro avg       0.70      0.51      0.46      1200\n",
      "weighted avg       0.74      0.78      0.69      1200\n",
      "\n"
     ]
    }
   ],
   "source": [
    "#computing precision, f-measure and support\n",
    "from sklearn.metrics import classification_report\n",
    "print(classification_report(y_test, y_pred))"
   ]
  },
  {
   "cell_type": "code",
   "execution_count": 77,
   "metadata": {},
   "outputs": [
    {
     "data": {
      "image/png": "[encoded data removed]",
      "text/plain": [
       "<Figure size 432x288 with 1 Axes>"
      ]
     },
     "metadata": {
      "needs_background": "light"
     },
     "output_type": "display_data"
    }
   ],
   "source": [
    "from sklearn.metrics import roc_auc_score\n",
    "from sklearn.metrics import roc_curve\n",
    "logit_roc_auc = roc_auc_score(y_test, logreg.predict(X_test))\n",
    "fpr, tpr, thresholds = roc_curve(y_test, logreg.predict_proba(X_test)[:,1])\n",
    "plt.figure()\n",
    "plt.plot(fpr, tpr, label='Logistic Regression (area = %0.2f)' % logit_roc_auc)\n",
    "plt.plot([0, 1], [0, 1],'r--')\n",
    "plt.xlim([0.0, 1.0])\n",
    "plt.ylim([0.0, 1.05])\n",
    "plt.xlabel('False Positive Rate')\n",
    "plt.ylabel('True Positive Rate')\n",
    "plt.title('Receiver operating characteristic')\n",
    "plt.legend(loc=\"lower right\")\n",
    "plt.savefig('Log_ROC')\n",
    "plt.show()"
   ]
  },
  {
   "cell_type": "code",
   "execution_count": 78,
   "metadata": {},
   "outputs": [
    {
     "data": {
      "text/plain": [
       "['finalized_SVM_model.sav']"
      ]
     },
     "execution_count": 78,
     "metadata": {},
     "output_type": "execute_result"
    }
   ],
   "source": [
    "import joblib\n",
    "filename = 'finalized_SVM_model.sav'\n",
    "joblib.dump(logreg, filename)"
   ]
  },
  {
   "cell_type": "code",
   "execution_count": 87,
   "metadata": {},
   "outputs": [],
   "source": [
    "#to test the test.csv file\n",
    "loaded_model = joblib.load(filename)\n",
    "\n",
    "predictions = loaded_model.predict(test_X)\n",
    "res = pd.DataFrame(predictions)\n",
    "res.index = test_X.index # its important for comparison\n",
    "res.columns = [\"prediction\"]\n",
    "res.to_csv(\"prediction_results.csv\")"
   ]
  },
  {
   "cell_type": "code",
   "execution_count": null,
   "metadata": {},
   "outputs": [],
   "source": []
  }
 ],
 "metadata": {
  "kernelspec": {
   "display_name": "Python 3",
   "language": "python",
   "name": "python3"
  },
  "language_info": {
   "codemirror_mode": {
    "name": "ipython",
    "version": 3
   },
   "file_extension": ".py",
   "mimetype": "text/x-python",
   "name": "python",
   "nbconvert_exporter": "python",
   "pygments_lexer": "ipython3",
   "version": "3.7.4"
  }
 },
 "nbformat": 4,
 "nbformat_minor": 2
}
